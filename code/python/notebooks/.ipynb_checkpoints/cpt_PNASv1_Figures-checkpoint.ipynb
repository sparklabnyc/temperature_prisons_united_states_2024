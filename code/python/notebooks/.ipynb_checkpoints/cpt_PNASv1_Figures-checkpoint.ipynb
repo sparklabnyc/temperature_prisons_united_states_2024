{
 "cells": [
  {
   "cell_type": "code",
   "execution_count": 7,
   "id": "652da02e",
   "metadata": {},
   "outputs": [],
   "source": [
    "import pandas as pd\n",
    "import matplotlib.pyplot as plt\n",
    "import numpy as np\n",
    "import glob\n",
    "import os\n",
    "import seaborn as sns\n",
    "import scipy\n",
    "import geopandas as gpd"
   ]
  },
  {
   "cell_type": "markdown",
   "id": "12d74609",
   "metadata": {},
   "source": [
    "# Prison Populations"
   ]
  },
  {
   "cell_type": "code",
   "execution_count": 63,
   "id": "65dfc79e",
   "metadata": {},
   "outputs": [],
   "source": [
    "fn = os.path.join('../../../data/shapefiles/Prison_Boundaries/Prison_Boundaries.shp')"
   ]
  },
  {
   "cell_type": "code",
   "execution_count": 72,
   "id": "02d61b37",
   "metadata": {},
   "outputs": [
    {
     "data": {
      "text/plain": [
       "0       IMAGERY/OTHER\n",
       "1       IMAGERY/OTHER\n",
       "2       IMAGERY/OTHER\n",
       "3       IMAGERY/OTHER\n",
       "4       IMAGERY/OTHER\n",
       "            ...      \n",
       "6733    IMAGERY/OTHER\n",
       "6734    IMAGERY/OTHER\n",
       "6735    IMAGERY/OTHER\n",
       "6736    IMAGERY/OTHER\n",
       "6737             None\n",
       "Name: VAL_METHOD, Length: 6738, dtype: object"
      ]
     },
     "execution_count": 72,
     "metadata": {},
     "output_type": "execute_result"
    }
   ],
   "source": [
    "gdf = gpd.read_file(fn)\n",
    "gdf['VAL_METHOD']"
   ]
  },
  {
   "cell_type": "code",
   "execution_count": 65,
   "id": "4ef4732b",
   "metadata": {},
   "outputs": [
    {
     "name": "stdout",
     "output_type": "stream",
     "text": [
      "Index(['FID', 'FACILITYID', 'NAME', 'ADDRESS', 'CITY', 'STATE', 'ZIP', 'ZIP4',\n",
      "       'TELEPHONE', 'TYPE', 'STATUS', 'POPULATION', 'COUNTY', 'COUNTYFIPS',\n",
      "       'COUNTRY', 'NAICS_CODE', 'NAICS_DESC', 'SOURCE', 'SOURCEDATE',\n",
      "       'VAL_METHOD', 'VAL_DATE', 'WEBSITE', 'SECURELVL', 'CAPACITY',\n",
      "       'SHAPE_Leng', 'GlobalID', 'CreationDa', 'Creator', 'EditDate', 'Editor',\n",
      "       'SHAPE_Le_1', 'SHAPE_Area', 'geometry'],\n",
      "      dtype='object')\n"
     ]
    }
   ],
   "source": [
    "print(gdf.columns)"
   ]
  },
  {
   "cell_type": "code",
   "execution_count": 67,
   "id": "dea6b433",
   "metadata": {},
   "outputs": [
    {
     "data": {
      "text/plain": [
       "0       2020-02-27\n",
       "1       2020-02-11\n",
       "2       2020-03-04\n",
       "3       2020-01-02\n",
       "4       2020-01-02\n",
       "           ...    \n",
       "6733    2020-02-25\n",
       "6734    2020-02-25\n",
       "6735    2020-02-25\n",
       "6736    2020-02-25\n",
       "6737          None\n",
       "Name: VAL_DATE, Length: 6738, dtype: object"
      ]
     },
     "execution_count": 67,
     "metadata": {},
     "output_type": "execute_result"
    }
   ],
   "source": [
    "gdf['VAL_DATE']"
   ]
  },
  {
   "cell_type": "code",
   "execution_count": 11,
   "id": "f534ca70",
   "metadata": {},
   "outputs": [
    {
     "name": "stdout",
     "output_type": "stream",
     "text": [
      "how many in tx + fl out of total 0.12012956504498813\n"
     ]
    }
   ],
   "source": [
    "print('how many in tx + fl out of total', (145240+98941)/2032647)"
   ]
  },
  {
   "cell_type": "markdown",
   "id": "b6cc1228",
   "metadata": {},
   "source": [
    "# Figure 1"
   ]
  },
  {
   "cell_type": "code",
   "execution_count": 2,
   "id": "075dcf31",
   "metadata": {
    "scrolled": true
   },
   "outputs": [
    {
     "data": {
      "text/html": [
       "<div>\n",
       "<style scoped>\n",
       "    .dataframe tbody tr th:only-of-type {\n",
       "        vertical-align: middle;\n",
       "    }\n",
       "\n",
       "    .dataframe tbody tr th {\n",
       "        vertical-align: top;\n",
       "    }\n",
       "\n",
       "    .dataframe thead th {\n",
       "        text-align: right;\n",
       "    }\n",
       "</style>\n",
       "<table border=\"1\" class=\"dataframe\">\n",
       "  <thead>\n",
       "    <tr style=\"text-align: right;\">\n",
       "      <th></th>\n",
       "      <th>STATE</th>\n",
       "      <th>STATEFP</th>\n",
       "      <th>Type</th>\n",
       "      <th>wbgt_26_pop_mean</th>\n",
       "      <th>wbgt_28_pop_mean</th>\n",
       "      <th>wbgt_30_pop_mean</th>\n",
       "      <th>wbgt_35_pop_mean</th>\n",
       "    </tr>\n",
       "  </thead>\n",
       "  <tbody>\n",
       "    <tr>\n",
       "      <th>0</th>\n",
       "      <td>AL</td>\n",
       "      <td>1</td>\n",
       "      <td>County</td>\n",
       "      <td>629944</td>\n",
       "      <td>187974</td>\n",
       "      <td>4799</td>\n",
       "      <td>0</td>\n",
       "    </tr>\n",
       "    <tr>\n",
       "      <th>1</th>\n",
       "      <td>AL</td>\n",
       "      <td>1</td>\n",
       "      <td>Federal</td>\n",
       "      <td>309694</td>\n",
       "      <td>114837</td>\n",
       "      <td>3447</td>\n",
       "      <td>0</td>\n",
       "    </tr>\n",
       "    <tr>\n",
       "      <th>2</th>\n",
       "      <td>AL</td>\n",
       "      <td>1</td>\n",
       "      <td>Local</td>\n",
       "      <td>27025</td>\n",
       "      <td>9914</td>\n",
       "      <td>173</td>\n",
       "      <td>0</td>\n",
       "    </tr>\n",
       "    <tr>\n",
       "      <th>3</th>\n",
       "      <td>AL</td>\n",
       "      <td>1</td>\n",
       "      <td>State</td>\n",
       "      <td>1760442</td>\n",
       "      <td>597932</td>\n",
       "      <td>11774</td>\n",
       "      <td>0</td>\n",
       "    </tr>\n",
       "    <tr>\n",
       "      <th>4</th>\n",
       "      <td>AL</td>\n",
       "      <td>1</td>\n",
       "      <td>Total</td>\n",
       "      <td>2727105</td>\n",
       "      <td>910657</td>\n",
       "      <td>20193</td>\n",
       "      <td>0</td>\n",
       "    </tr>\n",
       "  </tbody>\n",
       "</table>\n",
       "</div>"
      ],
      "text/plain": [
       "  STATE  STATEFP     Type  wbgt_26_pop_mean  wbgt_28_pop_mean  \\\n",
       "0    AL        1   County            629944            187974   \n",
       "1    AL        1  Federal            309694            114837   \n",
       "2    AL        1    Local             27025              9914   \n",
       "3    AL        1    State           1760442            597932   \n",
       "4    AL        1    Total           2727105            910657   \n",
       "\n",
       "   wbgt_30_pop_mean  wbgt_35_pop_mean  \n",
       "0              4799                 0  \n",
       "1              3447                 0  \n",
       "2               173                 0  \n",
       "3             11774                 0  \n",
       "4             20193                 0  "
      ]
     },
     "execution_count": 2,
     "metadata": {},
     "output_type": "execute_result"
    }
   ],
   "source": [
    "# Check out data for figure 1\n",
    "fn = os.path.join('../../../figures/wbgtmax/Figure_1.csv')\n",
    "fig1 = pd.read_csv(fn)\n",
    "fig1.head()"
   ]
  },
  {
   "cell_type": "code",
   "execution_count": 3,
   "id": "9a236eb7",
   "metadata": {
    "scrolled": true
   },
   "outputs": [
    {
     "data": {
      "text/plain": [
       "41249636"
      ]
     },
     "execution_count": 3,
     "metadata": {},
     "output_type": "execute_result"
    }
   ],
   "source": [
    "fig1[fig1['Type'] == 'Total']['wbgt_28_pop_mean'].sum()"
   ]
  },
  {
   "cell_type": "code",
   "execution_count": 4,
   "id": "815a566a",
   "metadata": {
    "scrolled": true
   },
   "outputs": [
    {
     "name": "stdout",
     "output_type": "stream",
     "text": [
      "TX & FL, as pct of Total US exposure 27.5 24.5\n",
      "TX & FL state prison, as pct of total state exposure 62.5 51.5\n"
     ]
    }
   ],
   "source": [
    "total = fig1[fig1['Type'] == 'Total']['wbgt_28_pop_mean'].sum()\n",
    "tx_t = fig1[(fig1['STATE'] == 'TX') & (fig1['Type'] == 'Total')]['wbgt_28_pop_mean'].sum()\n",
    "fl_t = fig1[(fig1['STATE'] == 'FL') & (fig1['Type'] == 'Total')]['wbgt_28_pop_mean'].sum()\n",
    "tx_s = fig1[(fig1['STATE'] == 'TX') & (fig1['Type'] == 'State')]['wbgt_28_pop_mean'].sum()\n",
    "fl_s = fig1[(fig1['STATE'] == 'FL') & (fig1['Type'] == 'State')]['wbgt_28_pop_mean'].sum()\n",
    "print('TX & FL, as pct of Total US exposure', round(tx_t/total*100,1), round(fl_t/total*100,1))\n",
    "print('TX & FL state prison, as pct of total state exposure', round(tx_s/tx_t*100,1), round(fl_s/tx_t*100,1))"
   ]
  },
  {
   "cell_type": "code",
   "execution_count": 5,
   "id": "a6fb5311",
   "metadata": {},
   "outputs": [
    {
     "name": "stdout",
     "output_type": "stream",
     "text": [
      "state, as pct of Total US exposure 60.8 25069317\n"
     ]
    }
   ],
   "source": [
    "state_t =  fig1[fig1['Type'] == 'State']['wbgt_28_pop_mean'].sum()\n",
    "print('state, as pct of Total US exposure', round(state_t/total*100,1), state_t)"
   ]
  },
  {
   "cell_type": "code",
   "execution_count": 6,
   "id": "2eea910d",
   "metadata": {
    "scrolled": true
   },
   "outputs": [
    {
     "name": "stdout",
     "output_type": "stream",
     "text": [
      "County, as pct of Total US exposure 26.9 11087330\n"
     ]
    }
   ],
   "source": [
    "state_t =  fig1[fig1['Type'] == 'County']['wbgt_28_pop_mean'].sum()\n",
    "print('County, as pct of Total US exposure', round(state_t/total*100,1), state_t)"
   ]
  },
  {
   "cell_type": "markdown",
   "id": "e1bc86be",
   "metadata": {},
   "source": [
    "# Figure 2"
   ]
  },
  {
   "cell_type": "code",
   "execution_count": 12,
   "id": "102abaca",
   "metadata": {
    "scrolled": false
   },
   "outputs": [
    {
     "data": {
      "text/html": [
       "<div>\n",
       "<style scoped>\n",
       "    .dataframe tbody tr th:only-of-type {\n",
       "        vertical-align: middle;\n",
       "    }\n",
       "\n",
       "    .dataframe tbody tr th {\n",
       "        vertical-align: top;\n",
       "    }\n",
       "\n",
       "    .dataframe thead th {\n",
       "        text-align: right;\n",
       "    }\n",
       "</style>\n",
       "<table border=\"1\" class=\"dataframe\">\n",
       "  <thead>\n",
       "    <tr style=\"text-align: right;\">\n",
       "      <th></th>\n",
       "      <th>STATE</th>\n",
       "      <th>state</th>\n",
       "      <th>year</th>\n",
       "      <th>wbgt_26_prison</th>\n",
       "      <th>wbgt_28_prison</th>\n",
       "      <th>wbgt_30_prison</th>\n",
       "      <th>wbgt_35_prison</th>\n",
       "      <th>wbgt_26_state</th>\n",
       "      <th>wbgt_28_state</th>\n",
       "      <th>wbgt_30_state</th>\n",
       "      <th>wbgt_35_state</th>\n",
       "      <th>wbgt_26_diff</th>\n",
       "      <th>wbgt_28_diff</th>\n",
       "      <th>wbgt_30_diff</th>\n",
       "      <th>wbgt_35_diff</th>\n",
       "    </tr>\n",
       "  </thead>\n",
       "  <tbody>\n",
       "    <tr>\n",
       "      <th>0</th>\n",
       "      <td>AL</td>\n",
       "      <td>1</td>\n",
       "      <td>1982</td>\n",
       "      <td>70.452105</td>\n",
       "      <td>11.233553</td>\n",
       "      <td>0.011157</td>\n",
       "      <td>0</td>\n",
       "      <td>67.253255</td>\n",
       "      <td>10.088192</td>\n",
       "      <td>0.000000</td>\n",
       "      <td>0</td>\n",
       "      <td>3.198850</td>\n",
       "      <td>1.145361</td>\n",
       "      <td>0.011157</td>\n",
       "      <td>0</td>\n",
       "    </tr>\n",
       "    <tr>\n",
       "      <th>1</th>\n",
       "      <td>AL</td>\n",
       "      <td>1</td>\n",
       "      <td>1983</td>\n",
       "      <td>58.177673</td>\n",
       "      <td>23.848048</td>\n",
       "      <td>1.546614</td>\n",
       "      <td>0</td>\n",
       "      <td>56.221087</td>\n",
       "      <td>21.890994</td>\n",
       "      <td>1.310454</td>\n",
       "      <td>0</td>\n",
       "      <td>1.956586</td>\n",
       "      <td>1.957054</td>\n",
       "      <td>0.236160</td>\n",
       "      <td>0</td>\n",
       "    </tr>\n",
       "    <tr>\n",
       "      <th>2</th>\n",
       "      <td>AL</td>\n",
       "      <td>1</td>\n",
       "      <td>1984</td>\n",
       "      <td>52.472951</td>\n",
       "      <td>5.705910</td>\n",
       "      <td>0.000000</td>\n",
       "      <td>0</td>\n",
       "      <td>46.808044</td>\n",
       "      <td>3.940633</td>\n",
       "      <td>0.000000</td>\n",
       "      <td>0</td>\n",
       "      <td>5.664907</td>\n",
       "      <td>1.765277</td>\n",
       "      <td>0.000000</td>\n",
       "      <td>0</td>\n",
       "    </tr>\n",
       "    <tr>\n",
       "      <th>3</th>\n",
       "      <td>AL</td>\n",
       "      <td>1</td>\n",
       "      <td>1985</td>\n",
       "      <td>64.822483</td>\n",
       "      <td>11.265462</td>\n",
       "      <td>0.427696</td>\n",
       "      <td>0</td>\n",
       "      <td>60.946918</td>\n",
       "      <td>9.166540</td>\n",
       "      <td>0.342430</td>\n",
       "      <td>0</td>\n",
       "      <td>3.875566</td>\n",
       "      <td>2.098923</td>\n",
       "      <td>0.085266</td>\n",
       "      <td>0</td>\n",
       "    </tr>\n",
       "    <tr>\n",
       "      <th>4</th>\n",
       "      <td>AL</td>\n",
       "      <td>1</td>\n",
       "      <td>1986</td>\n",
       "      <td>81.337438</td>\n",
       "      <td>21.959684</td>\n",
       "      <td>1.347251</td>\n",
       "      <td>0</td>\n",
       "      <td>76.131891</td>\n",
       "      <td>19.732537</td>\n",
       "      <td>1.455672</td>\n",
       "      <td>0</td>\n",
       "      <td>5.205547</td>\n",
       "      <td>2.227147</td>\n",
       "      <td>-0.108420</td>\n",
       "      <td>0</td>\n",
       "    </tr>\n",
       "  </tbody>\n",
       "</table>\n",
       "</div>"
      ],
      "text/plain": [
       "  STATE  state  year  wbgt_26_prison  wbgt_28_prison  wbgt_30_prison  \\\n",
       "0    AL      1  1982       70.452105       11.233553        0.011157   \n",
       "1    AL      1  1983       58.177673       23.848048        1.546614   \n",
       "2    AL      1  1984       52.472951        5.705910        0.000000   \n",
       "3    AL      1  1985       64.822483       11.265462        0.427696   \n",
       "4    AL      1  1986       81.337438       21.959684        1.347251   \n",
       "\n",
       "   wbgt_35_prison  wbgt_26_state  wbgt_28_state  wbgt_30_state  wbgt_35_state  \\\n",
       "0               0      67.253255      10.088192       0.000000              0   \n",
       "1               0      56.221087      21.890994       1.310454              0   \n",
       "2               0      46.808044       3.940633       0.000000              0   \n",
       "3               0      60.946918       9.166540       0.342430              0   \n",
       "4               0      76.131891      19.732537       1.455672              0   \n",
       "\n",
       "   wbgt_26_diff  wbgt_28_diff  wbgt_30_diff  wbgt_35_diff  \n",
       "0      3.198850      1.145361      0.011157             0  \n",
       "1      1.956586      1.957054      0.236160             0  \n",
       "2      5.664907      1.765277      0.000000             0  \n",
       "3      3.875566      2.098923      0.085266             0  \n",
       "4      5.205547      2.227147     -0.108420             0  "
      ]
     },
     "execution_count": 12,
     "metadata": {},
     "output_type": "execute_result"
    }
   ],
   "source": [
    "# Check out data for figure 1\n",
    "fn = os.path.join('../../../figures/wbgtmax/Figure_2_heatmap.csv')\n",
    "fig2 = pd.read_csv(fn)\n",
    "fig2.head()"
   ]
  },
  {
   "cell_type": "markdown",
   "id": "eb10e81c",
   "metadata": {},
   "source": [
    "### USA"
   ]
  },
  {
   "cell_type": "code",
   "execution_count": 43,
   "id": "103a591f",
   "metadata": {},
   "outputs": [],
   "source": [
    "metric = 'wbgt_28'\n",
    "geo = 'USA'"
   ]
  },
  {
   "cell_type": "code",
   "execution_count": 44,
   "id": "722ddf02",
   "metadata": {
    "scrolled": true
   },
   "outputs": [
    {
     "name": "stdout",
     "output_type": "stream",
     "text": [
      "Avg. dif 1981 - 2020 USA: 5.5\n"
     ]
    }
   ],
   "source": [
    "avg = fig2[fig2['STATE'] == geo][metric+'_diff'].mean()\n",
    "print('Avg. dif 1981 - 2020 USA:', round(avg, 1))"
   ]
  },
  {
   "cell_type": "code",
   "execution_count": 45,
   "id": "cc99f913",
   "metadata": {},
   "outputs": [
    {
     "name": "stdout",
     "output_type": "stream",
     "text": [
      "std. dif 1981 - 2020 USA: 1.3\n"
     ]
    }
   ],
   "source": [
    "std = fig2[fig2['STATE'] == geo][metric+'_diff'].std()\n",
    "print('std. dif 1981 - 2020 USA:', round(std,1))"
   ]
  },
  {
   "cell_type": "code",
   "execution_count": 46,
   "id": "a57eb297",
   "metadata": {},
   "outputs": [
    {
     "name": "stdout",
     "output_type": "stream",
     "text": [
      "coef of var. 1981 - 2020 USA: 0.2\n"
     ]
    }
   ],
   "source": [
    "cv = std / avg\n",
    "print('coef of var. 1981 - 2020 USA:', round(cv,1))"
   ]
  },
  {
   "cell_type": "code",
   "execution_count": 47,
   "id": "7dc51124",
   "metadata": {},
   "outputs": [
    {
     "data": {
      "text/html": [
       "<div>\n",
       "<style scoped>\n",
       "    .dataframe tbody tr th:only-of-type {\n",
       "        vertical-align: middle;\n",
       "    }\n",
       "\n",
       "    .dataframe tbody tr th {\n",
       "        vertical-align: top;\n",
       "    }\n",
       "\n",
       "    .dataframe thead th {\n",
       "        text-align: right;\n",
       "    }\n",
       "</style>\n",
       "<table border=\"1\" class=\"dataframe\">\n",
       "  <thead>\n",
       "    <tr style=\"text-align: right;\">\n",
       "      <th></th>\n",
       "      <th>year</th>\n",
       "      <th>wbgt_28_state</th>\n",
       "      <th>wbgt_28_diff</th>\n",
       "    </tr>\n",
       "  </thead>\n",
       "  <tbody>\n",
       "    <tr>\n",
       "      <th>1927</th>\n",
       "      <td>1998</td>\n",
       "      <td>19.716243</td>\n",
       "      <td>9.831185</td>\n",
       "    </tr>\n",
       "    <tr>\n",
       "      <th>1939</th>\n",
       "      <td>2010</td>\n",
       "      <td>19.582678</td>\n",
       "      <td>7.594895</td>\n",
       "    </tr>\n",
       "    <tr>\n",
       "      <th>1915</th>\n",
       "      <td>1986</td>\n",
       "      <td>9.025702</td>\n",
       "      <td>7.313370</td>\n",
       "    </tr>\n",
       "    <tr>\n",
       "      <th>1919</th>\n",
       "      <td>1990</td>\n",
       "      <td>12.042304</td>\n",
       "      <td>7.249265</td>\n",
       "    </tr>\n",
       "    <tr>\n",
       "      <th>1912</th>\n",
       "      <td>1983</td>\n",
       "      <td>13.717301</td>\n",
       "      <td>6.953207</td>\n",
       "    </tr>\n",
       "  </tbody>\n",
       "</table>\n",
       "</div>"
      ],
      "text/plain": [
       "      year  wbgt_28_state  wbgt_28_diff\n",
       "1927  1998      19.716243      9.831185\n",
       "1939  2010      19.582678      7.594895\n",
       "1915  1986       9.025702      7.313370\n",
       "1919  1990      12.042304      7.249265\n",
       "1912  1983      13.717301      6.953207"
      ]
     },
     "execution_count": 47,
     "metadata": {},
     "output_type": "execute_result"
    }
   ],
   "source": [
    "fig2[fig2['STATE'] == geo].sort_values('wbgt_28_diff', ascending=False)[['year', 'wbgt_28_state', metric+'_diff']].head(5)"
   ]
  },
  {
   "cell_type": "markdown",
   "id": "655180da",
   "metadata": {},
   "source": [
    "### State Level"
   ]
  },
  {
   "cell_type": "code",
   "execution_count": 49,
   "id": "273fab4e",
   "metadata": {},
   "outputs": [],
   "source": [
    "fig2.sort_values('wbgt_28_diff', ascending=False)[['STATE','year', metric+'_diff']].head(50);"
   ]
  },
  {
   "cell_type": "code",
   "execution_count": 53,
   "id": "00dc1986",
   "metadata": {},
   "outputs": [
    {
     "data": {
      "text/plain": [
       "STATE\n",
       "AZ     13.110660\n",
       "CA      7.836305\n",
       "NV      7.748848\n",
       "GA      7.610961\n",
       "USA     5.453869\n",
       "AL      3.264898\n",
       "IL      3.189382\n",
       "AR      3.159055\n",
       "NE      2.637659\n",
       "NC      2.615530\n",
       "Name: wbgt_28_diff, dtype: float64"
      ]
     },
     "execution_count": 53,
     "metadata": {},
     "output_type": "execute_result"
    }
   ],
   "source": [
    "fig2.groupby('STATE')['wbgt_28_diff'].mean().sort_values(ascending=False).head(10)"
   ]
  },
  {
   "cell_type": "code",
   "execution_count": 57,
   "id": "c1d4c40e",
   "metadata": {
    "scrolled": true
   },
   "outputs": [],
   "source": [
    "geo = 'AZ'"
   ]
  },
  {
   "cell_type": "code",
   "execution_count": 60,
   "id": "343a26b8",
   "metadata": {
    "scrolled": false
   },
   "outputs": [
    {
     "data": {
      "text/plain": [
       "39.406587769076445"
      ]
     },
     "execution_count": 60,
     "metadata": {},
     "output_type": "execute_result"
    }
   ],
   "source": [
    "fig2[fig2['STATE'] == geo]['wbgt_28_state'].mean()"
   ]
  },
  {
   "cell_type": "code",
   "execution_count": 61,
   "id": "78594008",
   "metadata": {},
   "outputs": [
    {
     "data": {
      "text/plain": [
       "52.51724739994563"
      ]
     },
     "execution_count": 61,
     "metadata": {},
     "output_type": "execute_result"
    }
   ],
   "source": [
    "fig2[fig2['STATE'] == geo]['wbgt_28_prison'].mean()"
   ]
  },
  {
   "cell_type": "code",
   "execution_count": null,
   "id": "b847f43b",
   "metadata": {},
   "outputs": [],
   "source": [
    "# dif on avg az\n",
    "top = \n",
    "bottom =\n"
   ]
  },
  {
   "cell_type": "code",
   "execution_count": 41,
   "id": "0a524816",
   "metadata": {},
   "outputs": [
    {
     "name": "stdout",
     "output_type": "stream",
     "text": [
      "LinregressResult(slope=-0.034951763846963274, intercept=122.42077509387218, rvalue=-0.051706698037767666, pvalue=0.7545758842572416, stderr=0.1109788172258965, intercept_stderr=221.96114875318383)\n",
      "LinregressResult(slope=-0.08861797191066884, intercept=189.01135749527228, rvalue=-0.14091272720586404, pvalue=0.39219166099096936, stderr=0.10235653587433534, intercept_stderr=204.71631301331354)\n"
     ]
    },
    {
     "data": {
      "text/plain": [
       "<matplotlib.legend.Legend at 0x17f179630>"
      ]
     },
     "execution_count": 41,
     "metadata": {},
     "output_type": "execute_result"
    },
    {
     "data": {
      "image/png": "[encoded data removed]",
      "text/plain": [
       "<Figure size 640x480 with 1 Axes>"
      ]
     },
     "metadata": {},
     "output_type": "display_data"
    }
   ],
   "source": [
    "# GA Prison\n",
    "geo = 'AZ'\n",
    "years = list(range(1981, 2019 + 1, 1))\n",
    "prison = fig2[fig2['STATE'] == geo][metric+'_prison']\n",
    "data = pd.DataFrame({'x': years, 'y': prison})\n",
    "plt.bar(data['x'], data['y'])\n",
    "plt.ylim(0,100)\n",
    "print(scipy.stats.linregress(data['x'], data['y']))\n",
    "\n",
    "# GA Average\n",
    "geo = 'GA'\n",
    "years = list(range(1981, 2019 + 1, 1))\n",
    "prison = fig2[fig2['STATE'] == geo][metric+'_state']\n",
    "data = pd.DataFrame({'x': years, 'y': prison})\n",
    "plt.bar(data['x'], data['y'])\n",
    "plt.ylim(0,100)\n",
    "print(scipy.stats.linregress(data['x'], data['y']))\n",
    "\n",
    "# prison = fig2[fig2['STATE'] == geo][metric+'_state']\n",
    "# plt.bar(years, prison)\n",
    "\n",
    "# plt.ylim(0, 70)\n",
    "plt.xlabel('Year')\n",
    "plt.ylabel('Days WBGTmax > 28°C')\n",
    "plt.legend(labels = ['GA Incarcerated', 'GA Non-incarcerated'])"
   ]
  },
  {
   "cell_type": "markdown",
   "id": "49200ff0",
   "metadata": {},
   "source": [
    "# Old code"
   ]
  },
  {
   "cell_type": "code",
   "execution_count": null,
   "id": "e4ec3f18",
   "metadata": {},
   "outputs": [],
   "source": [
    "for geo in np.unique(fig2['STATE']):\n",
    "    print(geo, len(fig2[fig2['STATE'] == geo]))"
   ]
  },
  {
   "cell_type": "code",
   "execution_count": null,
   "id": "b82ab44c",
   "metadata": {},
   "outputs": [],
   "source": [
    "geo = 'AL'\n",
    "years = list(range(1981, 2019 + 1, 1))\n",
    "prison = fig2[fig2['STATE'] == geo][metric+'_prison']\n",
    "data = pd.DataFrame({'x': years, 'y': prison})\n",
    "\n",
    "sns.regplot(data, x = 'x', y = 'y', fit_reg = True)\n",
    "plt.ylim(0,100)\n",
    "print(scipy.stats.linregress(data['x'], data['y']))\n",
    "c\n",
    "# prison = fig2[fig2['STATE'] == geo][metric+'_state']\n",
    "# plt.bar(years, prison)\n",
    "\n",
    "# plt.ylim(0, 70)"
   ]
  }
 ],
 "metadata": {
  "kernelspec": {
   "display_name": "Python 3 (ipykernel)",
   "language": "python",
   "name": "python3"
  },
  "language_info": {
   "codemirror_mode": {
    "name": "ipython",
    "version": 3
   },
   "file_extension": ".py",
   "mimetype": "text/x-python",
   "name": "python",
   "nbconvert_exporter": "python",
   "pygments_lexer": "ipython3",
   "version": "3.10.9"
  }
 },
 "nbformat": 4,
 "nbformat_minor": 5
}
