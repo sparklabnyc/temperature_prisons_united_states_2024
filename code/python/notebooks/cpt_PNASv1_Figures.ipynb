{
 "cells": [
  {
   "cell_type": "code",
   "execution_count": 1,
   "id": "652da02e",
   "metadata": {},
   "outputs": [],
   "source": [
    "import pandas as pd\n",
    "import matplotlib.pyplot as plt\n",
    "import numpy as np\n",
    "import glob\n",
    "import os\n",
    "import seaborn as sns\n",
    "import scipy\n",
    "import geopandas as gpd"
   ]
  },
  {
   "cell_type": "markdown",
   "id": "12d74609",
   "metadata": {},
   "source": [
    "# Prison Populations"
   ]
  },
  {
   "cell_type": "code",
   "execution_count": 2,
   "id": "65dfc79e",
   "metadata": {},
   "outputs": [],
   "source": [
    "fn = os.path.join('../../../data/shapefiles/Prison_Boundaries/Prison_Boundaries.shp')"
   ]
  },
  {
   "cell_type": "code",
   "execution_count": 3,
   "id": "02d61b37",
   "metadata": {},
   "outputs": [
    {
     "data": {
      "text/plain": [
       "0       IMAGERY/OTHER\n",
       "1       IMAGERY/OTHER\n",
       "2       IMAGERY/OTHER\n",
       "3       IMAGERY/OTHER\n",
       "4       IMAGERY/OTHER\n",
       "            ...      \n",
       "6733    IMAGERY/OTHER\n",
       "6734    IMAGERY/OTHER\n",
       "6735    IMAGERY/OTHER\n",
       "6736    IMAGERY/OTHER\n",
       "6737             None\n",
       "Name: VAL_METHOD, Length: 6738, dtype: object"
      ]
     },
     "execution_count": 3,
     "metadata": {},
     "output_type": "execute_result"
    }
   ],
   "source": [
    "gdf = gpd.read_file(fn)\n",
    "gdf['VAL_METHOD']"
   ]
  },
  {
   "cell_type": "code",
   "execution_count": 4,
   "id": "4ef4732b",
   "metadata": {},
   "outputs": [
    {
     "name": "stdout",
     "output_type": "stream",
     "text": [
      "Index(['FID', 'FACILITYID', 'NAME', 'ADDRESS', 'CITY', 'STATE', 'ZIP', 'ZIP4',\n",
      "       'TELEPHONE', 'TYPE', 'STATUS', 'POPULATION', 'COUNTY', 'COUNTYFIPS',\n",
      "       'COUNTRY', 'NAICS_CODE', 'NAICS_DESC', 'SOURCE', 'SOURCEDATE',\n",
      "       'VAL_METHOD', 'VAL_DATE', 'WEBSITE', 'SECURELVL', 'CAPACITY',\n",
      "       'SHAPE_Leng', 'GlobalID', 'CreationDa', 'Creator', 'EditDate', 'Editor',\n",
      "       'SHAPE_Le_1', 'SHAPE_Area', 'geometry'],\n",
      "      dtype='object')\n"
     ]
    }
   ],
   "source": [
    "print(gdf.columns)"
   ]
  },
  {
   "cell_type": "code",
   "execution_count": 5,
   "id": "dea6b433",
   "metadata": {},
   "outputs": [
    {
     "data": {
      "text/plain": [
       "0       2020-02-27\n",
       "1       2020-02-11\n",
       "2       2020-03-04\n",
       "3       2020-01-02\n",
       "4       2020-01-02\n",
       "           ...    \n",
       "6733    2020-02-25\n",
       "6734    2020-02-25\n",
       "6735    2020-02-25\n",
       "6736    2020-02-25\n",
       "6737          None\n",
       "Name: VAL_DATE, Length: 6738, dtype: object"
      ]
     },
     "execution_count": 5,
     "metadata": {},
     "output_type": "execute_result"
    }
   ],
   "source": [
    "gdf['VAL_DATE']"
   ]
  },
  {
   "cell_type": "code",
   "execution_count": 6,
   "id": "f534ca70",
   "metadata": {},
   "outputs": [
    {
     "name": "stdout",
     "output_type": "stream",
     "text": [
      "how many in tx + fl out of total 0.12012956504498813\n"
     ]
    }
   ],
   "source": [
    "print('how many in tx + fl out of total', (145240+98941)/2032647)"
   ]
  },
  {
   "cell_type": "markdown",
   "id": "b6cc1228",
   "metadata": {},
   "source": [
    "# Figure 1a"
   ]
  },
  {
   "cell_type": "code",
   "execution_count": 7,
   "id": "075dcf31",
   "metadata": {
    "scrolled": true
   },
   "outputs": [
    {
     "data": {
      "text/html": [
       "<div>\n",
       "<style scoped>\n",
       "    .dataframe tbody tr th:only-of-type {\n",
       "        vertical-align: middle;\n",
       "    }\n",
       "\n",
       "    .dataframe tbody tr th {\n",
       "        vertical-align: top;\n",
       "    }\n",
       "\n",
       "    .dataframe thead th {\n",
       "        text-align: right;\n",
       "    }\n",
       "</style>\n",
       "<table border=\"1\" class=\"dataframe\">\n",
       "  <thead>\n",
       "    <tr style=\"text-align: right;\">\n",
       "      <th></th>\n",
       "      <th>STATE</th>\n",
       "      <th>STATEFP</th>\n",
       "      <th>Type</th>\n",
       "      <th>wbgt_28_pop_mean</th>\n",
       "    </tr>\n",
       "  </thead>\n",
       "  <tbody>\n",
       "    <tr>\n",
       "      <th>0</th>\n",
       "      <td>AL</td>\n",
       "      <td>1</td>\n",
       "      <td>County</td>\n",
       "      <td>187974</td>\n",
       "    </tr>\n",
       "    <tr>\n",
       "      <th>1</th>\n",
       "      <td>AL</td>\n",
       "      <td>1</td>\n",
       "      <td>Federal</td>\n",
       "      <td>114837</td>\n",
       "    </tr>\n",
       "    <tr>\n",
       "      <th>2</th>\n",
       "      <td>AL</td>\n",
       "      <td>1</td>\n",
       "      <td>Local</td>\n",
       "      <td>9914</td>\n",
       "    </tr>\n",
       "    <tr>\n",
       "      <th>3</th>\n",
       "      <td>AL</td>\n",
       "      <td>1</td>\n",
       "      <td>State</td>\n",
       "      <td>597932</td>\n",
       "    </tr>\n",
       "    <tr>\n",
       "      <th>4</th>\n",
       "      <td>AL</td>\n",
       "      <td>1</td>\n",
       "      <td>Total</td>\n",
       "      <td>910657</td>\n",
       "    </tr>\n",
       "  </tbody>\n",
       "</table>\n",
       "</div>"
      ],
      "text/plain": [
       "  STATE  STATEFP     Type  wbgt_28_pop_mean\n",
       "0    AL        1   County            187974\n",
       "1    AL        1  Federal            114837\n",
       "2    AL        1    Local              9914\n",
       "3    AL        1    State            597932\n",
       "4    AL        1    Total            910657"
      ]
     },
     "execution_count": 7,
     "metadata": {},
     "output_type": "execute_result"
    }
   ],
   "source": [
    "# Check out data for figure 1\n",
    "fn = os.path.join('../../../figures/wbgtmax/Figure_1a.csv')\n",
    "fig1 = pd.read_csv(fn)\n",
    "fig1.head()"
   ]
  },
  {
   "cell_type": "code",
   "execution_count": 8,
   "id": "9a236eb7",
   "metadata": {
    "scrolled": true
   },
   "outputs": [
    {
     "name": "stdout",
     "output_type": "stream",
     "text": [
      "41.25\n"
     ]
    }
   ],
   "source": [
    "ans = fig1[fig1['Type'] == 'Total']['wbgt_28_pop_mean'].sum()\n",
    "print(round(ans / 10**6,2),)"
   ]
  },
  {
   "cell_type": "code",
   "execution_count": 9,
   "id": "815a566a",
   "metadata": {
    "scrolled": true
   },
   "outputs": [
    {
     "name": "stdout",
     "output_type": "stream",
     "text": [
      "TX & FL, as pct of Total US exposure 27.52 24.48\n",
      "TX & FL state prison, as pct of total state exposure 62.49 51.5\n"
     ]
    }
   ],
   "source": [
    "total = fig1[fig1['Type'] == 'Total']['wbgt_28_pop_mean'].sum()\n",
    "tx_t = fig1[(fig1['STATE'] == 'TX') & (fig1['Type'] == 'Total')]['wbgt_28_pop_mean'].sum()\n",
    "fl_t = fig1[(fig1['STATE'] == 'FL') & (fig1['Type'] == 'Total')]['wbgt_28_pop_mean'].sum()\n",
    "tx_s = fig1[(fig1['STATE'] == 'TX') & (fig1['Type'] == 'State')]['wbgt_28_pop_mean'].sum()\n",
    "fl_s = fig1[(fig1['STATE'] == 'FL') & (fig1['Type'] == 'State')]['wbgt_28_pop_mean'].sum()\n",
    "print('TX & FL, as pct of Total US exposure', round(tx_t/total*100,2), round(fl_t/total*100,2))\n",
    "print('TX & FL state prison, as pct of total state exposure', round(tx_s/tx_t*100,2), round(fl_s/tx_t*100,2))"
   ]
  },
  {
   "cell_type": "code",
   "execution_count": 10,
   "id": "a6fb5311",
   "metadata": {},
   "outputs": [
    {
     "name": "stdout",
     "output_type": "stream",
     "text": [
      "state, as pct of Total US exposure 60.77 25.07\n"
     ]
    }
   ],
   "source": [
    "state_t =  fig1[fig1['Type'] == 'State']['wbgt_28_pop_mean'].sum()\n",
    "print('state, as pct of Total US exposure', round(state_t/total*100,2), round(state_t/10**6,2))"
   ]
  },
  {
   "cell_type": "code",
   "execution_count": 11,
   "id": "2eea910d",
   "metadata": {
    "scrolled": true
   },
   "outputs": [
    {
     "name": "stdout",
     "output_type": "stream",
     "text": [
      "County, as pct of Total US exposure 26.88 11087330\n"
     ]
    }
   ],
   "source": [
    "state_t =  fig1[fig1['Type'] == 'County']['wbgt_28_pop_mean'].sum()\n",
    "print('County, as pct of Total US exposure', round(state_t/total*100,2), state_t)"
   ]
  },
  {
   "cell_type": "markdown",
   "id": "1e8d93b7",
   "metadata": {},
   "source": [
    "# Figure 1b"
   ]
  },
  {
   "cell_type": "code",
   "execution_count": 12,
   "id": "9dd37f25",
   "metadata": {},
   "outputs": [
    {
     "data": {
      "text/html": [
       "<div>\n",
       "<style scoped>\n",
       "    .dataframe tbody tr th:only-of-type {\n",
       "        vertical-align: middle;\n",
       "    }\n",
       "\n",
       "    .dataframe tbody tr th {\n",
       "        vertical-align: top;\n",
       "    }\n",
       "\n",
       "    .dataframe thead th {\n",
       "        text-align: right;\n",
       "    }\n",
       "</style>\n",
       "<table border=\"1\" class=\"dataframe\">\n",
       "  <thead>\n",
       "    <tr style=\"text-align: right;\">\n",
       "      <th></th>\n",
       "      <th>prison_id</th>\n",
       "      <th>wbgt_28_2016_2020</th>\n",
       "      <th>NAME</th>\n",
       "      <th>STATE</th>\n",
       "      <th>STATEFP</th>\n",
       "      <th>COUNTY</th>\n",
       "      <th>CITY</th>\n",
       "      <th>TYPE</th>\n",
       "      <th>POPULATION</th>\n",
       "      <th>CAPACITY</th>\n",
       "      <th>VAL_DATE</th>\n",
       "    </tr>\n",
       "  </thead>\n",
       "  <tbody>\n",
       "    <tr>\n",
       "      <th>0</th>\n",
       "      <td>1</td>\n",
       "      <td>12.8</td>\n",
       "      <td>MIDLAND COUNTY CENTRAL DETENTION CENTER</td>\n",
       "      <td>TX</td>\n",
       "      <td>48</td>\n",
       "      <td>MIDLAND</td>\n",
       "      <td>MIDLAND</td>\n",
       "      <td>COUNTY</td>\n",
       "      <td>438</td>\n",
       "      <td>498</td>\n",
       "      <td>2020/02/27</td>\n",
       "    </tr>\n",
       "    <tr>\n",
       "      <th>1</th>\n",
       "      <td>3</td>\n",
       "      <td>54.4</td>\n",
       "      <td>SAN JACINTO COUNTY JAIL</td>\n",
       "      <td>TX</td>\n",
       "      <td>48</td>\n",
       "      <td>SAN JACINTO</td>\n",
       "      <td>COLDSPRING</td>\n",
       "      <td>COUNTY</td>\n",
       "      <td>96</td>\n",
       "      <td>144</td>\n",
       "      <td>2020/03/04</td>\n",
       "    </tr>\n",
       "    <tr>\n",
       "      <th>2</th>\n",
       "      <td>4</td>\n",
       "      <td>4.8</td>\n",
       "      <td>YELLOW MEDICINE COUNTY JAIL</td>\n",
       "      <td>MN</td>\n",
       "      <td>27</td>\n",
       "      <td>YELLOW MEDICINE</td>\n",
       "      <td>GRANITE FALLS</td>\n",
       "      <td>COUNTY</td>\n",
       "      <td>27</td>\n",
       "      <td>36</td>\n",
       "      <td>2020/01/02</td>\n",
       "    </tr>\n",
       "    <tr>\n",
       "      <th>3</th>\n",
       "      <td>5</td>\n",
       "      <td>0.2</td>\n",
       "      <td>NMJC THIEF RIVER FALLS SATELLITE HOME</td>\n",
       "      <td>MN</td>\n",
       "      <td>27</td>\n",
       "      <td>PENNINGTON</td>\n",
       "      <td>THIEF RIVER FALLS</td>\n",
       "      <td>LOCAL</td>\n",
       "      <td>2</td>\n",
       "      <td>5</td>\n",
       "      <td>2020/01/02</td>\n",
       "    </tr>\n",
       "    <tr>\n",
       "      <th>4</th>\n",
       "      <td>6</td>\n",
       "      <td>0.2</td>\n",
       "      <td>PREBLE COUNTY JAIL</td>\n",
       "      <td>OH</td>\n",
       "      <td>39</td>\n",
       "      <td>PREBLE</td>\n",
       "      <td>EATON</td>\n",
       "      <td>COUNTY</td>\n",
       "      <td>79</td>\n",
       "      <td>70</td>\n",
       "      <td>2020/02/20</td>\n",
       "    </tr>\n",
       "  </tbody>\n",
       "</table>\n",
       "</div>"
      ],
      "text/plain": [
       "   prison_id  wbgt_28_2016_2020                                     NAME  \\\n",
       "0          1               12.8  MIDLAND COUNTY CENTRAL DETENTION CENTER   \n",
       "1          3               54.4                  SAN JACINTO COUNTY JAIL   \n",
       "2          4                4.8              YELLOW MEDICINE COUNTY JAIL   \n",
       "3          5                0.2    NMJC THIEF RIVER FALLS SATELLITE HOME   \n",
       "4          6                0.2                       PREBLE COUNTY JAIL   \n",
       "\n",
       "  STATE  STATEFP           COUNTY               CITY    TYPE  POPULATION  \\\n",
       "0    TX       48          MIDLAND            MIDLAND  COUNTY         438   \n",
       "1    TX       48      SAN JACINTO         COLDSPRING  COUNTY          96   \n",
       "2    MN       27  YELLOW MEDICINE      GRANITE FALLS  COUNTY          27   \n",
       "3    MN       27       PENNINGTON  THIEF RIVER FALLS   LOCAL           2   \n",
       "4    OH       39           PREBLE              EATON  COUNTY          79   \n",
       "\n",
       "   CAPACITY    VAL_DATE  \n",
       "0       498  2020/02/27  \n",
       "1       144  2020/03/04  \n",
       "2        36  2020/01/02  \n",
       "3         5  2020/01/02  \n",
       "4        70  2020/02/20  "
      ]
     },
     "execution_count": 12,
     "metadata": {},
     "output_type": "execute_result"
    }
   ],
   "source": [
    "# Check out data for figure 1\n",
    "fn = os.path.join('../../../figures/wbgtmax/Figure_1b.csv')\n",
    "fig1 = pd.read_csv(fn)\n",
    "fig1.head()"
   ]
  },
  {
   "cell_type": "code",
   "execution_count": 13,
   "id": "b38d7985",
   "metadata": {},
   "outputs": [
    {
     "name": "stdout",
     "output_type": "stream",
     "text": [
      "How many prisons had 75 days or more? 118\n"
     ]
    }
   ],
   "source": [
    "ans = len(fig1[fig1['wbgt_28_2016_2020'] >= 75])\n",
    "print('How many prisons had 75 days or more?', ans)"
   ]
  },
  {
   "cell_type": "code",
   "execution_count": 14,
   "id": "286128e1",
   "metadata": {},
   "outputs": [
    {
     "data": {
      "text/html": [
       "<div>\n",
       "<style scoped>\n",
       "    .dataframe tbody tr th:only-of-type {\n",
       "        vertical-align: middle;\n",
       "    }\n",
       "\n",
       "    .dataframe tbody tr th {\n",
       "        vertical-align: top;\n",
       "    }\n",
       "\n",
       "    .dataframe thead th {\n",
       "        text-align: right;\n",
       "    }\n",
       "</style>\n",
       "<table border=\"1\" class=\"dataframe\">\n",
       "  <thead>\n",
       "    <tr style=\"text-align: right;\">\n",
       "      <th></th>\n",
       "      <th>prison_id</th>\n",
       "      <th>wbgt_28_2016_2020</th>\n",
       "      <th>NAME</th>\n",
       "      <th>STATE</th>\n",
       "      <th>STATEFP</th>\n",
       "      <th>COUNTY</th>\n",
       "      <th>CITY</th>\n",
       "      <th>TYPE</th>\n",
       "      <th>POPULATION</th>\n",
       "      <th>CAPACITY</th>\n",
       "      <th>VAL_DATE</th>\n",
       "    </tr>\n",
       "  </thead>\n",
       "  <tbody>\n",
       "    <tr>\n",
       "      <th>309</th>\n",
       "      <td>566</td>\n",
       "      <td>126.2</td>\n",
       "      <td>STARR COUNTY JAIL</td>\n",
       "      <td>TX</td>\n",
       "      <td>48</td>\n",
       "      <td>STARR</td>\n",
       "      <td>RIO GRANDE CITY</td>\n",
       "      <td>COUNTY</td>\n",
       "      <td>249</td>\n",
       "      <td>275</td>\n",
       "      <td>2020/03/04</td>\n",
       "    </tr>\n",
       "    <tr>\n",
       "      <th>2161</th>\n",
       "      <td>3725</td>\n",
       "      <td>126.0</td>\n",
       "      <td>EDNA TAMAYO HOUSE</td>\n",
       "      <td>TX</td>\n",
       "      <td>48</td>\n",
       "      <td>CAMERON</td>\n",
       "      <td>HARLINGEN</td>\n",
       "      <td>STATE</td>\n",
       "      <td>21</td>\n",
       "      <td>24</td>\n",
       "      <td>2020/02/14</td>\n",
       "    </tr>\n",
       "    <tr>\n",
       "      <th>164</th>\n",
       "      <td>316</td>\n",
       "      <td>118.6</td>\n",
       "      <td>WEBB COUNTY JAIL</td>\n",
       "      <td>TX</td>\n",
       "      <td>48</td>\n",
       "      <td>WEBB</td>\n",
       "      <td>LAREDO</td>\n",
       "      <td>COUNTY</td>\n",
       "      <td>485</td>\n",
       "      <td>570</td>\n",
       "      <td>2020/03/04</td>\n",
       "    </tr>\n",
       "    <tr>\n",
       "      <th>1415</th>\n",
       "      <td>2526</td>\n",
       "      <td>117.8</td>\n",
       "      <td>WEBB COUNTY DETENTION CENTER</td>\n",
       "      <td>TX</td>\n",
       "      <td>48</td>\n",
       "      <td>WEBB</td>\n",
       "      <td>LAREDO</td>\n",
       "      <td>MULTI</td>\n",
       "      <td>2</td>\n",
       "      <td>480</td>\n",
       "      <td>2020/03/04</td>\n",
       "    </tr>\n",
       "    <tr>\n",
       "      <th>804</th>\n",
       "      <td>1473</td>\n",
       "      <td>116.6</td>\n",
       "      <td>CAMERON COUNTY DETENTION CENTER 2</td>\n",
       "      <td>TX</td>\n",
       "      <td>48</td>\n",
       "      <td>CAMERON</td>\n",
       "      <td>BROWNSVILLE</td>\n",
       "      <td>COUNTY</td>\n",
       "      <td>348</td>\n",
       "      <td>-999</td>\n",
       "      <td>2020/02/11</td>\n",
       "    </tr>\n",
       "    <tr>\n",
       "      <th>...</th>\n",
       "      <td>...</td>\n",
       "      <td>...</td>\n",
       "      <td>...</td>\n",
       "      <td>...</td>\n",
       "      <td>...</td>\n",
       "      <td>...</td>\n",
       "      <td>...</td>\n",
       "      <td>...</td>\n",
       "      <td>...</td>\n",
       "      <td>...</td>\n",
       "      <td>...</td>\n",
       "    </tr>\n",
       "    <tr>\n",
       "      <th>2083</th>\n",
       "      <td>3604</td>\n",
       "      <td>75.6</td>\n",
       "      <td>USP COLEMAN II</td>\n",
       "      <td>FL</td>\n",
       "      <td>12</td>\n",
       "      <td>SUMTER</td>\n",
       "      <td>SUMTERVILLE</td>\n",
       "      <td>FEDERAL</td>\n",
       "      <td>1374</td>\n",
       "      <td>956</td>\n",
       "      <td>2019/12/12</td>\n",
       "    </tr>\n",
       "    <tr>\n",
       "      <th>2081</th>\n",
       "      <td>3602</td>\n",
       "      <td>75.6</td>\n",
       "      <td>FCI COLEMAN MEDIUM</td>\n",
       "      <td>FL</td>\n",
       "      <td>12</td>\n",
       "      <td>SUMTER</td>\n",
       "      <td>SUMTERVILLE</td>\n",
       "      <td>FEDERAL</td>\n",
       "      <td>1486</td>\n",
       "      <td>1056</td>\n",
       "      <td>2019/12/12</td>\n",
       "    </tr>\n",
       "    <tr>\n",
       "      <th>1930</th>\n",
       "      <td>3351</td>\n",
       "      <td>75.6</td>\n",
       "      <td>FCI COLEMAN LOW CAMP</td>\n",
       "      <td>FL</td>\n",
       "      <td>12</td>\n",
       "      <td>SUMTER</td>\n",
       "      <td>SUMTERVILLE</td>\n",
       "      <td>FEDERAL</td>\n",
       "      <td>382</td>\n",
       "      <td>512</td>\n",
       "      <td>2019/12/12</td>\n",
       "    </tr>\n",
       "    <tr>\n",
       "      <th>980</th>\n",
       "      <td>1751</td>\n",
       "      <td>75.4</td>\n",
       "      <td>HILLSBOROUGH COUNTY JAIL, ORIENT ROAD</td>\n",
       "      <td>FL</td>\n",
       "      <td>12</td>\n",
       "      <td>HILLSBOROUGH</td>\n",
       "      <td>TAMPA</td>\n",
       "      <td>COUNTY</td>\n",
       "      <td>670</td>\n",
       "      <td>1711</td>\n",
       "      <td>2019/12/12</td>\n",
       "    </tr>\n",
       "    <tr>\n",
       "      <th>2730</th>\n",
       "      <td>4570</td>\n",
       "      <td>75.2</td>\n",
       "      <td>W.I.N.G.S. FOR LIFE</td>\n",
       "      <td>FL</td>\n",
       "      <td>12</td>\n",
       "      <td>MIAMI-DADE</td>\n",
       "      <td>MIAMI</td>\n",
       "      <td>STATE</td>\n",
       "      <td>20</td>\n",
       "      <td>20</td>\n",
       "      <td>2019/12/12</td>\n",
       "    </tr>\n",
       "  </tbody>\n",
       "</table>\n",
       "<p>118 rows × 11 columns</p>\n",
       "</div>"
      ],
      "text/plain": [
       "      prison_id  wbgt_28_2016_2020                                   NAME  \\\n",
       "309         566              126.2                      STARR COUNTY JAIL   \n",
       "2161       3725              126.0                      EDNA TAMAYO HOUSE   \n",
       "164         316              118.6                       WEBB COUNTY JAIL   \n",
       "1415       2526              117.8           WEBB COUNTY DETENTION CENTER   \n",
       "804        1473              116.6      CAMERON COUNTY DETENTION CENTER 2   \n",
       "...         ...                ...                                    ...   \n",
       "2083       3604               75.6                         USP COLEMAN II   \n",
       "2081       3602               75.6                     FCI COLEMAN MEDIUM   \n",
       "1930       3351               75.6                   FCI COLEMAN LOW CAMP   \n",
       "980        1751               75.4  HILLSBOROUGH COUNTY JAIL, ORIENT ROAD   \n",
       "2730       4570               75.2                    W.I.N.G.S. FOR LIFE   \n",
       "\n",
       "     STATE  STATEFP        COUNTY             CITY     TYPE  POPULATION  \\\n",
       "309     TX       48         STARR  RIO GRANDE CITY   COUNTY         249   \n",
       "2161    TX       48       CAMERON        HARLINGEN    STATE          21   \n",
       "164     TX       48          WEBB           LAREDO   COUNTY         485   \n",
       "1415    TX       48          WEBB           LAREDO    MULTI           2   \n",
       "804     TX       48       CAMERON      BROWNSVILLE   COUNTY         348   \n",
       "...    ...      ...           ...              ...      ...         ...   \n",
       "2083    FL       12        SUMTER      SUMTERVILLE  FEDERAL        1374   \n",
       "2081    FL       12        SUMTER      SUMTERVILLE  FEDERAL        1486   \n",
       "1930    FL       12        SUMTER      SUMTERVILLE  FEDERAL         382   \n",
       "980     FL       12  HILLSBOROUGH            TAMPA   COUNTY         670   \n",
       "2730    FL       12    MIAMI-DADE            MIAMI    STATE          20   \n",
       "\n",
       "      CAPACITY    VAL_DATE  \n",
       "309        275  2020/03/04  \n",
       "2161        24  2020/02/14  \n",
       "164        570  2020/03/04  \n",
       "1415       480  2020/03/04  \n",
       "804       -999  2020/02/11  \n",
       "...        ...         ...  \n",
       "2083       956  2019/12/12  \n",
       "2081      1056  2019/12/12  \n",
       "1930       512  2019/12/12  \n",
       "980       1711  2019/12/12  \n",
       "2730        20  2019/12/12  \n",
       "\n",
       "[118 rows x 11 columns]"
      ]
     },
     "execution_count": 14,
     "metadata": {},
     "output_type": "execute_result"
    }
   ],
   "source": [
    "fig1[fig1['wbgt_28_2016_2020'] >= 75].sort_values('wbgt_28_2016_2020', ascending = False)"
   ]
  },
  {
   "cell_type": "markdown",
   "id": "e1bc86be",
   "metadata": {},
   "source": [
    "# Figure 2"
   ]
  },
  {
   "cell_type": "code",
   "execution_count": 15,
   "id": "102abaca",
   "metadata": {
    "scrolled": false
   },
   "outputs": [
    {
     "data": {
      "text/html": [
       "<div>\n",
       "<style scoped>\n",
       "    .dataframe tbody tr th:only-of-type {\n",
       "        vertical-align: middle;\n",
       "    }\n",
       "\n",
       "    .dataframe tbody tr th {\n",
       "        vertical-align: top;\n",
       "    }\n",
       "\n",
       "    .dataframe thead th {\n",
       "        text-align: right;\n",
       "    }\n",
       "</style>\n",
       "<table border=\"1\" class=\"dataframe\">\n",
       "  <thead>\n",
       "    <tr style=\"text-align: right;\">\n",
       "      <th></th>\n",
       "      <th>STATE</th>\n",
       "      <th>state</th>\n",
       "      <th>year</th>\n",
       "      <th>wbgt_28_diff</th>\n",
       "    </tr>\n",
       "  </thead>\n",
       "  <tbody>\n",
       "    <tr>\n",
       "      <th>0</th>\n",
       "      <td>AL</td>\n",
       "      <td>1</td>\n",
       "      <td>1982</td>\n",
       "      <td>1.1</td>\n",
       "    </tr>\n",
       "    <tr>\n",
       "      <th>1</th>\n",
       "      <td>AL</td>\n",
       "      <td>1</td>\n",
       "      <td>1983</td>\n",
       "      <td>2.0</td>\n",
       "    </tr>\n",
       "    <tr>\n",
       "      <th>2</th>\n",
       "      <td>AL</td>\n",
       "      <td>1</td>\n",
       "      <td>1984</td>\n",
       "      <td>1.8</td>\n",
       "    </tr>\n",
       "    <tr>\n",
       "      <th>3</th>\n",
       "      <td>AL</td>\n",
       "      <td>1</td>\n",
       "      <td>1985</td>\n",
       "      <td>2.1</td>\n",
       "    </tr>\n",
       "    <tr>\n",
       "      <th>4</th>\n",
       "      <td>AL</td>\n",
       "      <td>1</td>\n",
       "      <td>1986</td>\n",
       "      <td>2.2</td>\n",
       "    </tr>\n",
       "  </tbody>\n",
       "</table>\n",
       "</div>"
      ],
      "text/plain": [
       "  STATE  state  year  wbgt_28_diff\n",
       "0    AL      1  1982           1.1\n",
       "1    AL      1  1983           2.0\n",
       "2    AL      1  1984           1.8\n",
       "3    AL      1  1985           2.1\n",
       "4    AL      1  1986           2.2"
      ]
     },
     "execution_count": 15,
     "metadata": {},
     "output_type": "execute_result"
    }
   ],
   "source": [
    "# Check out data for figure 1\n",
    "fn = os.path.join('../../../figures/wbgtmax/Figure_2a.csv')\n",
    "fig2 = pd.read_csv(fn)\n",
    "fig2.head()"
   ]
  },
  {
   "cell_type": "markdown",
   "id": "eb10e81c",
   "metadata": {},
   "source": [
    "### USA"
   ]
  },
  {
   "cell_type": "code",
   "execution_count": 16,
   "id": "103a591f",
   "metadata": {},
   "outputs": [],
   "source": [
    "metric = 'wbgt_28'\n",
    "geo = 'USA'"
   ]
  },
  {
   "cell_type": "code",
   "execution_count": 17,
   "id": "722ddf02",
   "metadata": {
    "scrolled": true
   },
   "outputs": [
    {
     "name": "stdout",
     "output_type": "stream",
     "text": [
      "Avg. dif 1981 - 2020 USA: 5.45\n"
     ]
    }
   ],
   "source": [
    "avg = fig2[fig2['STATE'] == geo][metric+'_diff'].mean()\n",
    "print('Avg. dif 1981 - 2020 USA:', round(avg, 2))"
   ]
  },
  {
   "cell_type": "code",
   "execution_count": null,
   "id": "cc99f913",
   "metadata": {},
   "outputs": [],
   "source": [
    "std = fig2[fig2['STATE'] == geo][metric+'_diff'].std()\n",
    "print('std. dif 1981 - 2020 USA:', round(std,2))"
   ]
  },
  {
   "cell_type": "code",
   "execution_count": null,
   "id": "a57eb297",
   "metadata": {},
   "outputs": [],
   "source": [
    "cv = std / avg\n",
    "print('coef of var. 1981 - 2020 USA:', round(cv,1))"
   ]
  },
  {
   "cell_type": "code",
   "execution_count": null,
   "id": "7dc51124",
   "metadata": {},
   "outputs": [],
   "source": [
    "fig2[fig2['STATE'] == geo].sort_values('wbgt_28_diff', ascending=False)[['year', 'wbgt_28_state', metric+'_diff']].head(5)"
   ]
  },
  {
   "cell_type": "markdown",
   "id": "655180da",
   "metadata": {},
   "source": [
    "### State Level"
   ]
  },
  {
   "cell_type": "code",
   "execution_count": null,
   "id": "273fab4e",
   "metadata": {},
   "outputs": [],
   "source": [
    "fig2.sort_values('wbgt_28_diff', ascending=False)[['STATE','year', metric+'_diff']].head(50);"
   ]
  },
  {
   "cell_type": "code",
   "execution_count": null,
   "id": "00dc1986",
   "metadata": {},
   "outputs": [],
   "source": [
    "fig2.groupby('STATE')['wbgt_28_diff'].mean().sort_values(ascending=False).head(10)"
   ]
  },
  {
   "cell_type": "code",
   "execution_count": null,
   "id": "c1d4c40e",
   "metadata": {
    "scrolled": true
   },
   "outputs": [],
   "source": [
    "geo = 'AZ'"
   ]
  },
  {
   "cell_type": "code",
   "execution_count": null,
   "id": "343a26b8",
   "metadata": {
    "scrolled": false
   },
   "outputs": [],
   "source": [
    "fig2[fig2['STATE'] == geo]['wbgt_28_state'].mean()"
   ]
  },
  {
   "cell_type": "code",
   "execution_count": null,
   "id": "78594008",
   "metadata": {},
   "outputs": [],
   "source": [
    "fig2[fig2['STATE'] == geo]['wbgt_28_prison'].mean()"
   ]
  },
  {
   "cell_type": "code",
   "execution_count": null,
   "id": "b847f43b",
   "metadata": {},
   "outputs": [],
   "source": [
    "# dif on avg az\n",
    "top = \n",
    "bottom =\n"
   ]
  },
  {
   "cell_type": "code",
   "execution_count": null,
   "id": "0a524816",
   "metadata": {},
   "outputs": [],
   "source": [
    "# GA Prison\n",
    "geo = 'AZ'\n",
    "years = list(range(1981, 2019 + 1, 1))\n",
    "prison = fig2[fig2['STATE'] == geo][metric+'_prison']\n",
    "data = pd.DataFrame({'x': years, 'y': prison})\n",
    "plt.bar(data['x'], data['y'])\n",
    "plt.ylim(0,100)\n",
    "print(scipy.stats.linregress(data['x'], data['y']))\n",
    "\n",
    "# GA Average\n",
    "geo = 'GA'\n",
    "years = list(range(1981, 2019 + 1, 1))\n",
    "prison = fig2[fig2['STATE'] == geo][metric+'_state']\n",
    "data = pd.DataFrame({'x': years, 'y': prison})\n",
    "plt.bar(data['x'], data['y'])\n",
    "plt.ylim(0,100)\n",
    "print(scipy.stats.linregress(data['x'], data['y']))\n",
    "\n",
    "# prison = fig2[fig2['STATE'] == geo][metric+'_state']\n",
    "# plt.bar(years, prison)\n",
    "\n",
    "# plt.ylim(0, 70)\n",
    "plt.xlabel('Year')\n",
    "plt.ylabel('Days WBGTmax > 28°C')\n",
    "plt.legend(labels = ['GA Incarcerated', 'GA Non-incarcerated'])"
   ]
  },
  {
   "cell_type": "markdown",
   "id": "49200ff0",
   "metadata": {},
   "source": [
    "# Old code"
   ]
  },
  {
   "cell_type": "code",
   "execution_count": null,
   "id": "e4ec3f18",
   "metadata": {},
   "outputs": [],
   "source": [
    "for geo in np.unique(fig2['STATE']):\n",
    "    print(geo, len(fig2[fig2['STATE'] == geo]))"
   ]
  },
  {
   "cell_type": "code",
   "execution_count": null,
   "id": "b82ab44c",
   "metadata": {},
   "outputs": [],
   "source": [
    "geo = 'AL'\n",
    "years = list(range(1981, 2019 + 1, 1))\n",
    "prison = fig2[fig2['STATE'] == geo][metric+'_prison']\n",
    "data = pd.DataFrame({'x': years, 'y': prison})\n",
    "\n",
    "sns.regplot(data, x = 'x', y = 'y', fit_reg = True)\n",
    "plt.ylim(0,100)\n",
    "print(scipy.stats.linregress(data['x'], data['y']))\n",
    "c\n",
    "# prison = fig2[fig2['STATE'] == geo][metric+'_state']\n",
    "# plt.bar(years, prison)\n",
    "\n",
    "# plt.ylim(0, 70)"
   ]
  }
 ],
 "metadata": {
  "kernelspec": {
   "display_name": "Python 3 (ipykernel)",
   "language": "python",
   "name": "python3"
  },
  "language_info": {
   "codemirror_mode": {
    "name": "ipython",
    "version": 3
   },
   "file_extension": ".py",
   "mimetype": "text/x-python",
   "name": "python",
   "nbconvert_exporter": "python",
   "pygments_lexer": "ipython3",
   "version": "3.10.9"
  }
 },
 "nbformat": 4,
 "nbformat_minor": 5
}
