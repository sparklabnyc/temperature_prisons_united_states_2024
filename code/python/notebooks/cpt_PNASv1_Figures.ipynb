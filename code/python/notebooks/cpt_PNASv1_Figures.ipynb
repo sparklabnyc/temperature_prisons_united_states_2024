{
 "cells": [
  {
   "cell_type": "code",
   "execution_count": 1,
   "id": "652da02e",
   "metadata": {},
   "outputs": [],
   "source": [
    "import pandas as pd\n",
    "import matplotlib.pyplot as plt\n",
    "import numpy as np\n",
    "import glob\n",
    "import os\n",
    "import seaborn as sns\n",
    "import scipy\n",
    "import geopandas as gpd"
   ]
  },
  {
   "cell_type": "markdown",
   "id": "12d74609",
   "metadata": {},
   "source": [
    "# Prison Populations"
   ]
  },
  {
   "cell_type": "code",
   "execution_count": null,
   "id": "65dfc79e",
   "metadata": {},
   "outputs": [],
   "source": [
    "fn = os.path.join('../../../data/shapefiles/Prison_Boundaries/Prison_Boundaries.shp')"
   ]
  },
  {
   "cell_type": "code",
   "execution_count": null,
   "id": "02d61b37",
   "metadata": {},
   "outputs": [],
   "source": [
    "gdf = gpd.read_file(fn)\n",
    "gdf['VAL_METHOD']"
   ]
  },
  {
   "cell_type": "code",
   "execution_count": null,
   "id": "4ef4732b",
   "metadata": {},
   "outputs": [],
   "source": [
    "print(gdf.columns)"
   ]
  },
  {
   "cell_type": "code",
   "execution_count": null,
   "id": "dea6b433",
   "metadata": {},
   "outputs": [],
   "source": [
    "gdf['VAL_DATE']"
   ]
  },
  {
   "cell_type": "code",
   "execution_count": null,
   "id": "f534ca70",
   "metadata": {},
   "outputs": [],
   "source": [
    "print('how many in tx + fl out of total', (145240+98941)/2032647)"
   ]
  },
  {
   "cell_type": "markdown",
   "id": "b6cc1228",
   "metadata": {},
   "source": [
    "# Figure 1a"
   ]
  },
  {
   "cell_type": "code",
   "execution_count": null,
   "id": "075dcf31",
   "metadata": {
    "scrolled": true
   },
   "outputs": [],
   "source": [
    "# Check out data for figure 1\n",
    "fn = os.path.join('../../../figures/wbgtmax/Figure_1a.csv')\n",
    "fig1 = pd.read_csv(fn)\n",
    "fig1.head()"
   ]
  },
  {
   "cell_type": "code",
   "execution_count": null,
   "id": "9a236eb7",
   "metadata": {
    "scrolled": true
   },
   "outputs": [],
   "source": [
    "ans = fig1[fig1['Type'] == 'Total']['wbgt_28_pop_mean'].sum()\n",
    "print(round(ans / 10**6,2),)"
   ]
  },
  {
   "cell_type": "code",
   "execution_count": null,
   "id": "815a566a",
   "metadata": {
    "scrolled": true
   },
   "outputs": [],
   "source": [
    "total = fig1[fig1['Type'] == 'Total']['wbgt_28_pop_mean'].sum()\n",
    "tx_t = fig1[(fig1['STATE'] == 'TX') & (fig1['Type'] == 'Total')]['wbgt_28_pop_mean'].sum()\n",
    "fl_t = fig1[(fig1['STATE'] == 'FL') & (fig1['Type'] == 'Total')]['wbgt_28_pop_mean'].sum()\n",
    "tx_s = fig1[(fig1['STATE'] == 'TX') & (fig1['Type'] == 'State')]['wbgt_28_pop_mean'].sum()\n",
    "fl_s = fig1[(fig1['STATE'] == 'FL') & (fig1['Type'] == 'State')]['wbgt_28_pop_mean'].sum()\n",
    "print('TX & FL, as pct of Total US exposure', round(tx_t/total*100,2), round(fl_t/total*100,2))\n",
    "print('TX & FL state prison, as pct of total state exposure', round(tx_s/tx_t*100,2), round(fl_s/tx_t*100,2))"
   ]
  },
  {
   "cell_type": "code",
   "execution_count": null,
   "id": "a6fb5311",
   "metadata": {},
   "outputs": [],
   "source": [
    "state_t =  fig1[fig1['Type'] == 'State']['wbgt_28_pop_mean'].sum()\n",
    "print('state, as pct of Total US exposure', round(state_t/total*100,2), round(state_t/10**6,2))"
   ]
  },
  {
   "cell_type": "code",
   "execution_count": null,
   "id": "2eea910d",
   "metadata": {
    "scrolled": true
   },
   "outputs": [],
   "source": [
    "state_t =  fig1[fig1['Type'] == 'County']['wbgt_28_pop_mean'].sum()\n",
    "print('County, as pct of Total US exposure', round(state_t/total*100,2), state_t)"
   ]
  },
  {
   "cell_type": "markdown",
   "id": "1e8d93b7",
   "metadata": {},
   "source": [
    "# Figure 1b"
   ]
  },
  {
   "cell_type": "code",
   "execution_count": null,
   "id": "9dd37f25",
   "metadata": {},
   "outputs": [],
   "source": [
    "# Check out data for figure 1\n",
    "fn = os.path.join('../../../figures/wbgtmax/Figure_1b.csv')\n",
    "fig1 = pd.read_csv(fn)\n",
    "fig1.head()"
   ]
  },
  {
   "cell_type": "code",
   "execution_count": null,
   "id": "b38d7985",
   "metadata": {},
   "outputs": [],
   "source": [
    "ans = len(fig1[fig1['wbgt_28_2016_2020'] >= 75])\n",
    "print('How many prisons had 75 days or more?', ans)"
   ]
  },
  {
   "cell_type": "code",
   "execution_count": null,
   "id": "286128e1",
   "metadata": {},
   "outputs": [],
   "source": [
    "fig1[fig1['wbgt_28_2016_2020'] >= 75].sort_values('wbgt_28_2016_2020', ascending = False)"
   ]
  },
  {
   "cell_type": "markdown",
   "id": "e1bc86be",
   "metadata": {},
   "source": [
    "# Figure 2a"
   ]
  },
  {
   "cell_type": "code",
   "execution_count": 3,
   "id": "102abaca",
   "metadata": {
    "scrolled": false
   },
   "outputs": [
    {
     "data": {
      "text/html": [
       "<div>\n",
       "<style scoped>\n",
       "    .dataframe tbody tr th:only-of-type {\n",
       "        vertical-align: middle;\n",
       "    }\n",
       "\n",
       "    .dataframe tbody tr th {\n",
       "        vertical-align: top;\n",
       "    }\n",
       "\n",
       "    .dataframe thead th {\n",
       "        text-align: right;\n",
       "    }\n",
       "</style>\n",
       "<table border=\"1\" class=\"dataframe\">\n",
       "  <thead>\n",
       "    <tr style=\"text-align: right;\">\n",
       "      <th></th>\n",
       "      <th>STATE</th>\n",
       "      <th>state</th>\n",
       "      <th>year</th>\n",
       "      <th>wbgt_26_prison</th>\n",
       "      <th>wbgt_28_prison</th>\n",
       "      <th>wbgt_30_prison</th>\n",
       "      <th>wbgt_35_prison</th>\n",
       "      <th>wbgt_26_state</th>\n",
       "      <th>wbgt_28_state</th>\n",
       "      <th>wbgt_30_state</th>\n",
       "      <th>wbgt_35_state</th>\n",
       "      <th>wbgt_26_diff</th>\n",
       "      <th>wbgt_28_diff</th>\n",
       "      <th>wbgt_30_diff</th>\n",
       "      <th>wbgt_35_diff</th>\n",
       "    </tr>\n",
       "  </thead>\n",
       "  <tbody>\n",
       "    <tr>\n",
       "      <th>0</th>\n",
       "      <td>AL</td>\n",
       "      <td>1</td>\n",
       "      <td>1982</td>\n",
       "      <td>70.452105</td>\n",
       "      <td>11.233553</td>\n",
       "      <td>0.011157</td>\n",
       "      <td>0</td>\n",
       "      <td>67.253255</td>\n",
       "      <td>10.088192</td>\n",
       "      <td>0.000000</td>\n",
       "      <td>0</td>\n",
       "      <td>3.198850</td>\n",
       "      <td>1.145361</td>\n",
       "      <td>0.011157</td>\n",
       "      <td>0</td>\n",
       "    </tr>\n",
       "    <tr>\n",
       "      <th>1</th>\n",
       "      <td>AL</td>\n",
       "      <td>1</td>\n",
       "      <td>1983</td>\n",
       "      <td>58.177673</td>\n",
       "      <td>23.848048</td>\n",
       "      <td>1.546614</td>\n",
       "      <td>0</td>\n",
       "      <td>56.221087</td>\n",
       "      <td>21.890994</td>\n",
       "      <td>1.310454</td>\n",
       "      <td>0</td>\n",
       "      <td>1.956586</td>\n",
       "      <td>1.957054</td>\n",
       "      <td>0.236160</td>\n",
       "      <td>0</td>\n",
       "    </tr>\n",
       "    <tr>\n",
       "      <th>2</th>\n",
       "      <td>AL</td>\n",
       "      <td>1</td>\n",
       "      <td>1984</td>\n",
       "      <td>52.472951</td>\n",
       "      <td>5.705910</td>\n",
       "      <td>0.000000</td>\n",
       "      <td>0</td>\n",
       "      <td>46.808044</td>\n",
       "      <td>3.940633</td>\n",
       "      <td>0.000000</td>\n",
       "      <td>0</td>\n",
       "      <td>5.664907</td>\n",
       "      <td>1.765277</td>\n",
       "      <td>0.000000</td>\n",
       "      <td>0</td>\n",
       "    </tr>\n",
       "    <tr>\n",
       "      <th>3</th>\n",
       "      <td>AL</td>\n",
       "      <td>1</td>\n",
       "      <td>1985</td>\n",
       "      <td>64.822483</td>\n",
       "      <td>11.265462</td>\n",
       "      <td>0.427696</td>\n",
       "      <td>0</td>\n",
       "      <td>60.946918</td>\n",
       "      <td>9.166540</td>\n",
       "      <td>0.342430</td>\n",
       "      <td>0</td>\n",
       "      <td>3.875566</td>\n",
       "      <td>2.098923</td>\n",
       "      <td>0.085266</td>\n",
       "      <td>0</td>\n",
       "    </tr>\n",
       "    <tr>\n",
       "      <th>4</th>\n",
       "      <td>AL</td>\n",
       "      <td>1</td>\n",
       "      <td>1986</td>\n",
       "      <td>81.337438</td>\n",
       "      <td>21.959684</td>\n",
       "      <td>1.347251</td>\n",
       "      <td>0</td>\n",
       "      <td>76.131891</td>\n",
       "      <td>19.732537</td>\n",
       "      <td>1.455672</td>\n",
       "      <td>0</td>\n",
       "      <td>5.205547</td>\n",
       "      <td>2.227147</td>\n",
       "      <td>-0.108420</td>\n",
       "      <td>0</td>\n",
       "    </tr>\n",
       "  </tbody>\n",
       "</table>\n",
       "</div>"
      ],
      "text/plain": [
       "  STATE  state  year  wbgt_26_prison  wbgt_28_prison  wbgt_30_prison  \\\n",
       "0    AL      1  1982       70.452105       11.233553        0.011157   \n",
       "1    AL      1  1983       58.177673       23.848048        1.546614   \n",
       "2    AL      1  1984       52.472951        5.705910        0.000000   \n",
       "3    AL      1  1985       64.822483       11.265462        0.427696   \n",
       "4    AL      1  1986       81.337438       21.959684        1.347251   \n",
       "\n",
       "   wbgt_35_prison  wbgt_26_state  wbgt_28_state  wbgt_30_state  wbgt_35_state  \\\n",
       "0               0      67.253255      10.088192       0.000000              0   \n",
       "1               0      56.221087      21.890994       1.310454              0   \n",
       "2               0      46.808044       3.940633       0.000000              0   \n",
       "3               0      60.946918       9.166540       0.342430              0   \n",
       "4               0      76.131891      19.732537       1.455672              0   \n",
       "\n",
       "   wbgt_26_diff  wbgt_28_diff  wbgt_30_diff  wbgt_35_diff  \n",
       "0      3.198850      1.145361      0.011157             0  \n",
       "1      1.956586      1.957054      0.236160             0  \n",
       "2      5.664907      1.765277      0.000000             0  \n",
       "3      3.875566      2.098923      0.085266             0  \n",
       "4      5.205547      2.227147     -0.108420             0  "
      ]
     },
     "execution_count": 3,
     "metadata": {},
     "output_type": "execute_result"
    }
   ],
   "source": [
    "# Check out data for figure 1\n",
    "fn = os.path.join('../../../figures/wbgtmax/Figure_2a-legacy.csv')\n",
    "fig2 = pd.read_csv(fn)\n",
    "fig2.head()"
   ]
  },
  {
   "cell_type": "markdown",
   "id": "eb10e81c",
   "metadata": {},
   "source": [
    "### USA"
   ]
  },
  {
   "cell_type": "code",
   "execution_count": 4,
   "id": "103a591f",
   "metadata": {},
   "outputs": [],
   "source": [
    "metric = 'wbgt_28'\n",
    "geo = 'USA'"
   ]
  },
  {
   "cell_type": "code",
   "execution_count": 5,
   "id": "722ddf02",
   "metadata": {
    "scrolled": true
   },
   "outputs": [
    {
     "name": "stdout",
     "output_type": "stream",
     "text": [
      "Avg. dif 1981 - 2020 USA: 5.45\n"
     ]
    }
   ],
   "source": [
    "avg = fig2[fig2['STATE'] == geo][metric+'_diff'].mean()\n",
    "print('Avg. dif 1981 - 2020 USA:', round(avg, 2))"
   ]
  },
  {
   "cell_type": "code",
   "execution_count": 6,
   "id": "cc99f913",
   "metadata": {},
   "outputs": [
    {
     "name": "stdout",
     "output_type": "stream",
     "text": [
      "std. dif 1981 - 2020 USA: 1.29\n"
     ]
    }
   ],
   "source": [
    "std = fig2[fig2['STATE'] == geo][metric+'_diff'].std()\n",
    "print('std. dif 1981 - 2020 USA:', round(std,2))"
   ]
  },
  {
   "cell_type": "code",
   "execution_count": 7,
   "id": "a57eb297",
   "metadata": {},
   "outputs": [
    {
     "name": "stdout",
     "output_type": "stream",
     "text": [
      "coef of var. 1981 - 2020 USA: 0.2\n"
     ]
    }
   ],
   "source": [
    "cv = std / avg\n",
    "print('coef of var. 1981 - 2020 USA:', round(cv,1))"
   ]
  },
  {
   "cell_type": "code",
   "execution_count": 10,
   "id": "7dc51124",
   "metadata": {},
   "outputs": [
    {
     "data": {
      "text/html": [
       "<div>\n",
       "<style scoped>\n",
       "    .dataframe tbody tr th:only-of-type {\n",
       "        vertical-align: middle;\n",
       "    }\n",
       "\n",
       "    .dataframe tbody tr th {\n",
       "        vertical-align: top;\n",
       "    }\n",
       "\n",
       "    .dataframe thead th {\n",
       "        text-align: right;\n",
       "    }\n",
       "</style>\n",
       "<table border=\"1\" class=\"dataframe\">\n",
       "  <thead>\n",
       "    <tr style=\"text-align: right;\">\n",
       "      <th></th>\n",
       "      <th>year</th>\n",
       "      <th>wbgt_28_state</th>\n",
       "      <th>wbgt_28_diff</th>\n",
       "    </tr>\n",
       "  </thead>\n",
       "  <tbody>\n",
       "    <tr>\n",
       "      <th>1927</th>\n",
       "      <td>1998</td>\n",
       "      <td>19.716243</td>\n",
       "      <td>9.831185</td>\n",
       "    </tr>\n",
       "    <tr>\n",
       "      <th>1939</th>\n",
       "      <td>2010</td>\n",
       "      <td>19.582678</td>\n",
       "      <td>7.594895</td>\n",
       "    </tr>\n",
       "    <tr>\n",
       "      <th>1915</th>\n",
       "      <td>1986</td>\n",
       "      <td>9.025702</td>\n",
       "      <td>7.313370</td>\n",
       "    </tr>\n",
       "    <tr>\n",
       "      <th>1919</th>\n",
       "      <td>1990</td>\n",
       "      <td>12.042304</td>\n",
       "      <td>7.249265</td>\n",
       "    </tr>\n",
       "    <tr>\n",
       "      <th>1912</th>\n",
       "      <td>1983</td>\n",
       "      <td>13.717301</td>\n",
       "      <td>6.953207</td>\n",
       "    </tr>\n",
       "  </tbody>\n",
       "</table>\n",
       "</div>"
      ],
      "text/plain": [
       "      year  wbgt_28_state  wbgt_28_diff\n",
       "1927  1998      19.716243      9.831185\n",
       "1939  2010      19.582678      7.594895\n",
       "1915  1986       9.025702      7.313370\n",
       "1919  1990      12.042304      7.249265\n",
       "1912  1983      13.717301      6.953207"
      ]
     },
     "execution_count": 10,
     "metadata": {},
     "output_type": "execute_result"
    }
   ],
   "source": [
    "fig2[fig2['STATE'] == geo].sort_values('wbgt_28_diff', ascending=False)[['year', 'wbgt_28_state', metric+'_diff']].head(5)"
   ]
  },
  {
   "cell_type": "code",
   "execution_count": 12,
   "id": "29b38c96",
   "metadata": {
    "scrolled": true
   },
   "outputs": [
    {
     "data": {
      "text/html": [
       "<div>\n",
       "<style scoped>\n",
       "    .dataframe tbody tr th:only-of-type {\n",
       "        vertical-align: middle;\n",
       "    }\n",
       "\n",
       "    .dataframe tbody tr th {\n",
       "        vertical-align: top;\n",
       "    }\n",
       "\n",
       "    .dataframe thead th {\n",
       "        text-align: right;\n",
       "    }\n",
       "</style>\n",
       "<table border=\"1\" class=\"dataframe\">\n",
       "  <thead>\n",
       "    <tr style=\"text-align: right;\">\n",
       "      <th></th>\n",
       "      <th>year</th>\n",
       "      <th>wbgt_28_state</th>\n",
       "      <th>wbgt_28_diff</th>\n",
       "    </tr>\n",
       "  </thead>\n",
       "  <tbody>\n",
       "    <tr>\n",
       "      <th>1923</th>\n",
       "      <td>1994</td>\n",
       "      <td>8.495857</td>\n",
       "      <td>3.474183</td>\n",
       "    </tr>\n",
       "    <tr>\n",
       "      <th>1933</th>\n",
       "      <td>2004</td>\n",
       "      <td>7.035522</td>\n",
       "      <td>3.561268</td>\n",
       "    </tr>\n",
       "    <tr>\n",
       "      <th>1937</th>\n",
       "      <td>2008</td>\n",
       "      <td>5.756404</td>\n",
       "      <td>3.878505</td>\n",
       "    </tr>\n",
       "    <tr>\n",
       "      <th>1936</th>\n",
       "      <td>2007</td>\n",
       "      <td>9.655194</td>\n",
       "      <td>3.907794</td>\n",
       "    </tr>\n",
       "    <tr>\n",
       "      <th>1921</th>\n",
       "      <td>1992</td>\n",
       "      <td>6.140706</td>\n",
       "      <td>3.968652</td>\n",
       "    </tr>\n",
       "  </tbody>\n",
       "</table>\n",
       "</div>"
      ],
      "text/plain": [
       "      year  wbgt_28_state  wbgt_28_diff\n",
       "1923  1994       8.495857      3.474183\n",
       "1933  2004       7.035522      3.561268\n",
       "1937  2008       5.756404      3.878505\n",
       "1936  2007       9.655194      3.907794\n",
       "1921  1992       6.140706      3.968652"
      ]
     },
     "execution_count": 12,
     "metadata": {},
     "output_type": "execute_result"
    }
   ],
   "source": [
    "fig2[fig2['STATE'] == geo].sort_values('wbgt_28_diff', ascending=True)[['year', 'wbgt_28_state', metric+'_diff']].head(5)"
   ]
  },
  {
   "cell_type": "markdown",
   "id": "481fc3a6",
   "metadata": {},
   "source": [
    "# Figure 2b"
   ]
  },
  {
   "cell_type": "code",
   "execution_count": 24,
   "id": "b5dc7b60",
   "metadata": {},
   "outputs": [
    {
     "data": {
      "text/html": [
       "<div>\n",
       "<style scoped>\n",
       "    .dataframe tbody tr th:only-of-type {\n",
       "        vertical-align: middle;\n",
       "    }\n",
       "\n",
       "    .dataframe tbody tr th {\n",
       "        vertical-align: top;\n",
       "    }\n",
       "\n",
       "    .dataframe thead th {\n",
       "        text-align: right;\n",
       "    }\n",
       "</style>\n",
       "<table border=\"1\" class=\"dataframe\">\n",
       "  <thead>\n",
       "    <tr style=\"text-align: right;\">\n",
       "      <th></th>\n",
       "      <th>prison_id</th>\n",
       "      <th>total_change_wbgt_28</th>\n",
       "      <th>NAME</th>\n",
       "      <th>STATE</th>\n",
       "      <th>STATEFP</th>\n",
       "      <th>COUNTY</th>\n",
       "      <th>CITY</th>\n",
       "      <th>TYPE</th>\n",
       "      <th>POPULATION</th>\n",
       "      <th>CAPACITY</th>\n",
       "      <th>VAL_DATE</th>\n",
       "    </tr>\n",
       "  </thead>\n",
       "  <tbody>\n",
       "    <tr>\n",
       "      <th>0</th>\n",
       "      <td>1</td>\n",
       "      <td>4.8</td>\n",
       "      <td>MIDLAND COUNTY CENTRAL DETENTION CENTER</td>\n",
       "      <td>TX</td>\n",
       "      <td>48</td>\n",
       "      <td>MIDLAND</td>\n",
       "      <td>MIDLAND</td>\n",
       "      <td>COUNTY</td>\n",
       "      <td>438</td>\n",
       "      <td>498</td>\n",
       "      <td>2020/02/27</td>\n",
       "    </tr>\n",
       "    <tr>\n",
       "      <th>1</th>\n",
       "      <td>3</td>\n",
       "      <td>3.5</td>\n",
       "      <td>SAN JACINTO COUNTY JAIL</td>\n",
       "      <td>TX</td>\n",
       "      <td>48</td>\n",
       "      <td>SAN JACINTO</td>\n",
       "      <td>COLDSPRING</td>\n",
       "      <td>COUNTY</td>\n",
       "      <td>96</td>\n",
       "      <td>144</td>\n",
       "      <td>2020/03/04</td>\n",
       "    </tr>\n",
       "    <tr>\n",
       "      <th>2</th>\n",
       "      <td>4</td>\n",
       "      <td>0.1</td>\n",
       "      <td>YELLOW MEDICINE COUNTY JAIL</td>\n",
       "      <td>MN</td>\n",
       "      <td>27</td>\n",
       "      <td>YELLOW MEDICINE</td>\n",
       "      <td>GRANITE FALLS</td>\n",
       "      <td>COUNTY</td>\n",
       "      <td>27</td>\n",
       "      <td>36</td>\n",
       "      <td>2020/01/02</td>\n",
       "    </tr>\n",
       "    <tr>\n",
       "      <th>3</th>\n",
       "      <td>5</td>\n",
       "      <td>0.2</td>\n",
       "      <td>NMJC THIEF RIVER FALLS SATELLITE HOME</td>\n",
       "      <td>MN</td>\n",
       "      <td>27</td>\n",
       "      <td>PENNINGTON</td>\n",
       "      <td>THIEF RIVER FALLS</td>\n",
       "      <td>LOCAL</td>\n",
       "      <td>2</td>\n",
       "      <td>5</td>\n",
       "      <td>2020/01/02</td>\n",
       "    </tr>\n",
       "    <tr>\n",
       "      <th>4</th>\n",
       "      <td>6</td>\n",
       "      <td>-1.3</td>\n",
       "      <td>PREBLE COUNTY JAIL</td>\n",
       "      <td>OH</td>\n",
       "      <td>39</td>\n",
       "      <td>PREBLE</td>\n",
       "      <td>EATON</td>\n",
       "      <td>COUNTY</td>\n",
       "      <td>79</td>\n",
       "      <td>70</td>\n",
       "      <td>2020/02/20</td>\n",
       "    </tr>\n",
       "  </tbody>\n",
       "</table>\n",
       "</div>"
      ],
      "text/plain": [
       "   prison_id  total_change_wbgt_28                                     NAME  \\\n",
       "0          1                   4.8  MIDLAND COUNTY CENTRAL DETENTION CENTER   \n",
       "1          3                   3.5                  SAN JACINTO COUNTY JAIL   \n",
       "2          4                   0.1              YELLOW MEDICINE COUNTY JAIL   \n",
       "3          5                   0.2    NMJC THIEF RIVER FALLS SATELLITE HOME   \n",
       "4          6                  -1.3                       PREBLE COUNTY JAIL   \n",
       "\n",
       "  STATE  STATEFP           COUNTY               CITY    TYPE  POPULATION  \\\n",
       "0    TX       48          MIDLAND            MIDLAND  COUNTY         438   \n",
       "1    TX       48      SAN JACINTO         COLDSPRING  COUNTY          96   \n",
       "2    MN       27  YELLOW MEDICINE      GRANITE FALLS  COUNTY          27   \n",
       "3    MN       27       PENNINGTON  THIEF RIVER FALLS   LOCAL           2   \n",
       "4    OH       39           PREBLE              EATON  COUNTY          79   \n",
       "\n",
       "   CAPACITY    VAL_DATE  \n",
       "0       498  2020/02/27  \n",
       "1       144  2020/03/04  \n",
       "2        36  2020/01/02  \n",
       "3         5  2020/01/02  \n",
       "4        70  2020/02/20  "
      ]
     },
     "execution_count": 24,
     "metadata": {},
     "output_type": "execute_result"
    }
   ],
   "source": [
    "# Check out data for figure 1\n",
    "fn = os.path.join('../../../figures/wbgtmax/Figure_2b.csv')\n",
    "fig2 = pd.read_csv(fn)\n",
    "fig2.head()"
   ]
  },
  {
   "cell_type": "code",
   "execution_count": 30,
   "id": "e4d76f6f",
   "metadata": {},
   "outputs": [
    {
     "name": "stdout",
     "output_type": "stream",
     "text": [
      "Avg state level change AL 7.129230769230769\n",
      "Avg state level change AR 0.6810344827586204\n",
      "Avg state level change AZ -1.9159090909090912\n",
      "Avg state level change CA 0.35683760683760685\n",
      "Avg state level change CO -0.07187500000000001\n",
      "Avg state level change CT 0.22777777777777775\n",
      "Avg state level change DC -5.033333333333333\n",
      "Avg state level change DE -0.13636363636363635\n",
      "Avg state level change FL 22.13621262458472\n",
      "Avg state level change GA -0.5493150684931506\n",
      "Avg state level change IA -1.8074626865671641\n",
      "Avg state level change ID 0.06842105263157897\n",
      "Avg state level change IL -2.082178217821782\n",
      "Avg state level change IN -2.4842105263157896\n",
      "Avg state level change KS 1.2983050847457627\n",
      "Avg state level change KY -1.5983739837398374\n",
      "Avg state level change LA 4.470796460176992\n",
      "Avg state level change MA 0.20243902439024392\n",
      "Avg state level change MD -0.5289855072463768\n",
      "Avg state level change ME -0.10500000000000001\n",
      "Avg state level change MI -1.1600000000000004\n",
      "Avg state level change MN -0.7016\n",
      "Avg state level change MO -3.013636363636364\n",
      "Avg state level change MS 5.009859154929577\n",
      "Avg state level change MT -0.5340909090909091\n",
      "Avg state level change NC 0.4943396226415095\n",
      "Avg state level change ND -0.41304347826086957\n",
      "Avg state level change NE -1.2249999999999996\n",
      "Avg state level change NH 0.15\n",
      "Avg state level change NJ 0.1480769230769231\n",
      "Avg state level change NM -0.11764705882352941\n",
      "Avg state level change NV -0.5718749999999999\n",
      "Avg state level change NY -0.22847222222222222\n",
      "Avg state level change OH -0.9092857142857143\n",
      "Avg state level change OK 9.413793103448278\n",
      "Avg state level change OR 0.05344827586206895\n",
      "Avg state level change PA -0.08699186991869917\n",
      "Avg state level change RI 0.3\n",
      "Avg state level change SC 1.1280701754385964\n",
      "Avg state level change SD -1.1900000000000002\n",
      "Avg state level change TN 0.5518796992481203\n",
      "Avg state level change TX 6.568126520681266\n",
      "Avg state level change UT 0.02666666666666666\n",
      "Avg state level change VA -1.9200000000000002\n",
      "Avg state level change VT 0.31\n",
      "Avg state level change WA 0.04878048780487806\n",
      "Avg state level change WI -0.9797979797979799\n",
      "Avg state level change WV -0.5186046511627908\n",
      "Avg state level change WY -0.02666666666666667\n"
     ]
    }
   ],
   "source": [
    "for state in states:\n",
    "    ans = fig2[fig2['STATE'] == state]['total_change_wbgt_28'].mean()\n",
    "    print('Avg state level change', state, ans)"
   ]
  },
  {
   "cell_type": "markdown",
   "id": "655180da",
   "metadata": {},
   "source": [
    "### State Level"
   ]
  },
  {
   "cell_type": "code",
   "execution_count": null,
   "id": "273fab4e",
   "metadata": {},
   "outputs": [],
   "source": [
    "fig2.sort_values('wbgt_28_diff', ascending=False)[['STATE','year', metric+'_diff']].head(50);"
   ]
  },
  {
   "cell_type": "code",
   "execution_count": null,
   "id": "00dc1986",
   "metadata": {},
   "outputs": [],
   "source": [
    "fig2.groupby('STATE')['wbgt_28_diff'].mean().sort_values(ascending=False).head(10)"
   ]
  },
  {
   "cell_type": "code",
   "execution_count": null,
   "id": "c1d4c40e",
   "metadata": {
    "scrolled": true
   },
   "outputs": [],
   "source": [
    "geo = 'AZ'"
   ]
  },
  {
   "cell_type": "code",
   "execution_count": null,
   "id": "343a26b8",
   "metadata": {
    "scrolled": false
   },
   "outputs": [],
   "source": [
    "fig2[fig2['STATE'] == geo]['wbgt_28_state'].mean()"
   ]
  },
  {
   "cell_type": "code",
   "execution_count": null,
   "id": "78594008",
   "metadata": {},
   "outputs": [],
   "source": [
    "fig2[fig2['STATE'] == geo]['wbgt_28_prison'].mean()"
   ]
  },
  {
   "cell_type": "code",
   "execution_count": null,
   "id": "b847f43b",
   "metadata": {},
   "outputs": [],
   "source": [
    "# dif on avg az\n",
    "top = \n",
    "bottom =\n"
   ]
  },
  {
   "cell_type": "code",
   "execution_count": null,
   "id": "0a524816",
   "metadata": {},
   "outputs": [],
   "source": [
    "# GA Prison\n",
    "geo = 'AZ'\n",
    "years = list(range(1981, 2019 + 1, 1))\n",
    "prison = fig2[fig2['STATE'] == geo][metric+'_prison']\n",
    "data = pd.DataFrame({'x': years, 'y': prison})\n",
    "plt.bar(data['x'], data['y'])\n",
    "plt.ylim(0,100)\n",
    "print(scipy.stats.linregress(data['x'], data['y']))\n",
    "\n",
    "# GA Average\n",
    "geo = 'GA'\n",
    "years = list(range(1981, 2019 + 1, 1))\n",
    "prison = fig2[fig2['STATE'] == geo][metric+'_state']\n",
    "data = pd.DataFrame({'x': years, 'y': prison})\n",
    "plt.bar(data['x'], data['y'])\n",
    "plt.ylim(0,100)\n",
    "print(scipy.stats.linregress(data['x'], data['y']))\n",
    "\n",
    "# prison = fig2[fig2['STATE'] == geo][metric+'_state']\n",
    "# plt.bar(years, prison)\n",
    "\n",
    "# plt.ylim(0, 70)\n",
    "plt.xlabel('Year')\n",
    "plt.ylabel('Days WBGTmax > 28°C')\n",
    "plt.legend(labels = ['GA Incarcerated', 'GA Non-incarcerated'])"
   ]
  },
  {
   "cell_type": "markdown",
   "id": "49200ff0",
   "metadata": {},
   "source": [
    "# Old code"
   ]
  },
  {
   "cell_type": "code",
   "execution_count": null,
   "id": "e4ec3f18",
   "metadata": {},
   "outputs": [],
   "source": [
    "for geo in np.unique(fig2['STATE']):\n",
    "    print(geo, len(fig2[fig2['STATE'] == geo]))"
   ]
  },
  {
   "cell_type": "code",
   "execution_count": null,
   "id": "b82ab44c",
   "metadata": {},
   "outputs": [],
   "source": [
    "geo = 'AL'\n",
    "years = list(range(1981, 2019 + 1, 1))\n",
    "prison = fig2[fig2['STATE'] == geo][metric+'_prison']\n",
    "data = pd.DataFrame({'x': years, 'y': prison})\n",
    "\n",
    "sns.regplot(data, x = 'x', y = 'y', fit_reg = True)\n",
    "plt.ylim(0,100)\n",
    "print(scipy.stats.linregress(data['x'], data['y']))\n",
    "c\n",
    "# prison = fig2[fig2['STATE'] == geo][metric+'_state']\n",
    "# plt.bar(years, prison)\n",
    "\n",
    "# plt.ylim(0, 70)"
   ]
  }
 ],
 "metadata": {
  "kernelspec": {
   "display_name": "Python 3 (ipykernel)",
   "language": "python",
   "name": "python3"
  },
  "language_info": {
   "codemirror_mode": {
    "name": "ipython",
    "version": 3
   },
   "file_extension": ".py",
   "mimetype": "text/x-python",
   "name": "python",
   "nbconvert_exporter": "python",
   "pygments_lexer": "ipython3",
   "version": "3.10.9"
  }
 },
 "nbformat": 4,
 "nbformat_minor": 5
}
