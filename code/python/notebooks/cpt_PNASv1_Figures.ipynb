{
 "cells": [
  {
   "cell_type": "code",
   "execution_count": 1,
   "id": "652da02e",
   "metadata": {},
   "outputs": [],
   "source": [
    "import pandas as pd\n",
    "import matplotlib.pyplot as plt\n",
    "import numpy as np\n",
    "import glob\n",
    "import os\n",
    "import seaborn as sns\n",
    "import scipy\n",
    "import geopandas as gpd"
   ]
  },
  {
   "cell_type": "markdown",
   "id": "12d74609",
   "metadata": {},
   "source": [
    "# Prison Populations"
   ]
  },
  {
   "cell_type": "code",
   "execution_count": 2,
   "id": "65dfc79e",
   "metadata": {},
   "outputs": [],
   "source": [
    "fn = os.path.join('../../../data/shapefiles/Prison_Boundaries/Prison_Boundaries.shp')"
   ]
  },
  {
   "cell_type": "code",
   "execution_count": 3,
   "id": "02d61b37",
   "metadata": {},
   "outputs": [
    {
     "data": {
      "text/plain": [
       "0       IMAGERY/OTHER\n",
       "1       IMAGERY/OTHER\n",
       "2       IMAGERY/OTHER\n",
       "3       IMAGERY/OTHER\n",
       "4       IMAGERY/OTHER\n",
       "            ...      \n",
       "6733    IMAGERY/OTHER\n",
       "6734    IMAGERY/OTHER\n",
       "6735    IMAGERY/OTHER\n",
       "6736    IMAGERY/OTHER\n",
       "6737             None\n",
       "Name: VAL_METHOD, Length: 6738, dtype: object"
      ]
     },
     "execution_count": 3,
     "metadata": {},
     "output_type": "execute_result"
    }
   ],
   "source": [
    "gdf = gpd.read_file(fn)\n",
    "gdf['VAL_METHOD']"
   ]
  },
  {
   "cell_type": "code",
   "execution_count": 4,
   "id": "4ef4732b",
   "metadata": {},
   "outputs": [
    {
     "name": "stdout",
     "output_type": "stream",
     "text": [
      "Index(['FID', 'FACILITYID', 'NAME', 'ADDRESS', 'CITY', 'STATE', 'ZIP', 'ZIP4',\n",
      "       'TELEPHONE', 'TYPE', 'STATUS', 'POPULATION', 'COUNTY', 'COUNTYFIPS',\n",
      "       'COUNTRY', 'NAICS_CODE', 'NAICS_DESC', 'SOURCE', 'SOURCEDATE',\n",
      "       'VAL_METHOD', 'VAL_DATE', 'WEBSITE', 'SECURELVL', 'CAPACITY',\n",
      "       'SHAPE_Leng', 'GlobalID', 'CreationDa', 'Creator', 'EditDate', 'Editor',\n",
      "       'SHAPE_Le_1', 'SHAPE_Area', 'geometry'],\n",
      "      dtype='object')\n"
     ]
    }
   ],
   "source": [
    "print(gdf.columns)"
   ]
  },
  {
   "cell_type": "code",
   "execution_count": 5,
   "id": "dea6b433",
   "metadata": {},
   "outputs": [
    {
     "data": {
      "text/plain": [
       "0       2020-02-27\n",
       "1       2020-02-11\n",
       "2       2020-03-04\n",
       "3       2020-01-02\n",
       "4       2020-01-02\n",
       "           ...    \n",
       "6733    2020-02-25\n",
       "6734    2020-02-25\n",
       "6735    2020-02-25\n",
       "6736    2020-02-25\n",
       "6737          None\n",
       "Name: VAL_DATE, Length: 6738, dtype: object"
      ]
     },
     "execution_count": 5,
     "metadata": {},
     "output_type": "execute_result"
    }
   ],
   "source": [
    "gdf['VAL_DATE']"
   ]
  },
  {
   "cell_type": "code",
   "execution_count": 6,
   "id": "f534ca70",
   "metadata": {},
   "outputs": [
    {
     "name": "stdout",
     "output_type": "stream",
     "text": [
      "how many in tx + fl out of total 0.12012956504498813\n"
     ]
    }
   ],
   "source": [
    "print('how many in tx + fl out of total', (145240+98941)/2032647)"
   ]
  },
  {
   "cell_type": "markdown",
   "id": "b6cc1228",
   "metadata": {},
   "source": [
    "# Figure 1"
   ]
  },
  {
   "cell_type": "code",
   "execution_count": 8,
   "id": "075dcf31",
   "metadata": {
    "scrolled": true
   },
   "outputs": [
    {
     "data": {
      "text/html": [
       "<div>\n",
       "<style scoped>\n",
       "    .dataframe tbody tr th:only-of-type {\n",
       "        vertical-align: middle;\n",
       "    }\n",
       "\n",
       "    .dataframe tbody tr th {\n",
       "        vertical-align: top;\n",
       "    }\n",
       "\n",
       "    .dataframe thead th {\n",
       "        text-align: right;\n",
       "    }\n",
       "</style>\n",
       "<table border=\"1\" class=\"dataframe\">\n",
       "  <thead>\n",
       "    <tr style=\"text-align: right;\">\n",
       "      <th></th>\n",
       "      <th>STATE</th>\n",
       "      <th>STATEFP</th>\n",
       "      <th>Type</th>\n",
       "      <th>wbgt_28_pop_mean</th>\n",
       "    </tr>\n",
       "  </thead>\n",
       "  <tbody>\n",
       "    <tr>\n",
       "      <th>0</th>\n",
       "      <td>AL</td>\n",
       "      <td>1</td>\n",
       "      <td>County</td>\n",
       "      <td>187974</td>\n",
       "    </tr>\n",
       "    <tr>\n",
       "      <th>1</th>\n",
       "      <td>AL</td>\n",
       "      <td>1</td>\n",
       "      <td>Federal</td>\n",
       "      <td>114837</td>\n",
       "    </tr>\n",
       "    <tr>\n",
       "      <th>2</th>\n",
       "      <td>AL</td>\n",
       "      <td>1</td>\n",
       "      <td>Local</td>\n",
       "      <td>9914</td>\n",
       "    </tr>\n",
       "    <tr>\n",
       "      <th>3</th>\n",
       "      <td>AL</td>\n",
       "      <td>1</td>\n",
       "      <td>State</td>\n",
       "      <td>597932</td>\n",
       "    </tr>\n",
       "    <tr>\n",
       "      <th>4</th>\n",
       "      <td>AL</td>\n",
       "      <td>1</td>\n",
       "      <td>Total</td>\n",
       "      <td>910657</td>\n",
       "    </tr>\n",
       "  </tbody>\n",
       "</table>\n",
       "</div>"
      ],
      "text/plain": [
       "  STATE  STATEFP     Type  wbgt_28_pop_mean\n",
       "0    AL        1   County            187974\n",
       "1    AL        1  Federal            114837\n",
       "2    AL        1    Local              9914\n",
       "3    AL        1    State            597932\n",
       "4    AL        1    Total            910657"
      ]
     },
     "execution_count": 8,
     "metadata": {},
     "output_type": "execute_result"
    }
   ],
   "source": [
    "# Check out data for figure 1\n",
    "fn = os.path.join('../../../figures/wbgtmax/Figure_1a.csv')\n",
    "fig1 = pd.read_csv(fn)\n",
    "fig1.head()"
   ]
  },
  {
   "cell_type": "code",
   "execution_count": 14,
   "id": "9a236eb7",
   "metadata": {
    "scrolled": true
   },
   "outputs": [
    {
     "name": "stdout",
     "output_type": "stream",
     "text": [
      "41.25\n"
     ]
    }
   ],
   "source": [
    "ans = fig1[fig1['Type'] == 'Total']['wbgt_28_pop_mean'].sum()\n",
    "print(round(ans / 10**6,2),)"
   ]
  },
  {
   "cell_type": "code",
   "execution_count": 21,
   "id": "815a566a",
   "metadata": {
    "scrolled": true
   },
   "outputs": [
    {
     "name": "stdout",
     "output_type": "stream",
     "text": [
      "TX & FL, as pct of Total US exposure 27.52 24.48\n",
      "TX & FL state prison, as pct of total state exposure 62.49 51.5\n"
     ]
    }
   ],
   "source": [
    "total = fig1[fig1['Type'] == 'Total']['wbgt_28_pop_mean'].sum()\n",
    "tx_t = fig1[(fig1['STATE'] == 'TX') & (fig1['Type'] == 'Total')]['wbgt_28_pop_mean'].sum()\n",
    "fl_t = fig1[(fig1['STATE'] == 'FL') & (fig1['Type'] == 'Total')]['wbgt_28_pop_mean'].sum()\n",
    "tx_s = fig1[(fig1['STATE'] == 'TX') & (fig1['Type'] == 'State')]['wbgt_28_pop_mean'].sum()\n",
    "fl_s = fig1[(fig1['STATE'] == 'FL') & (fig1['Type'] == 'State')]['wbgt_28_pop_mean'].sum()\n",
    "print('TX & FL, as pct of Total US exposure', round(tx_t/total*100,2), round(fl_t/total*100,2))\n",
    "print('TX & FL state prison, as pct of total state exposure', round(tx_s/tx_t*100,2), round(fl_s/tx_t*100,2))"
   ]
  },
  {
   "cell_type": "code",
   "execution_count": 18,
   "id": "a6fb5311",
   "metadata": {},
   "outputs": [
    {
     "name": "stdout",
     "output_type": "stream",
     "text": [
      "state, as pct of Total US exposure 60.77 25.07\n"
     ]
    }
   ],
   "source": [
    "state_t =  fig1[fig1['Type'] == 'State']['wbgt_28_pop_mean'].sum()\n",
    "print('state, as pct of Total US exposure', round(state_t/total*100,2), round(state_t/10**6,2))"
   ]
  },
  {
   "cell_type": "code",
   "execution_count": 20,
   "id": "2eea910d",
   "metadata": {
    "scrolled": true
   },
   "outputs": [
    {
     "name": "stdout",
     "output_type": "stream",
     "text": [
      "County, as pct of Total US exposure 26.88 11087330\n"
     ]
    }
   ],
   "source": [
    "state_t =  fig1[fig1['Type'] == 'County']['wbgt_28_pop_mean'].sum()\n",
    "print('County, as pct of Total US exposure', round(state_t/total*100,2), state_t)"
   ]
  },
  {
   "cell_type": "markdown",
   "id": "e1bc86be",
   "metadata": {},
   "source": [
    "# Figure 2"
   ]
  },
  {
   "cell_type": "code",
   "execution_count": 38,
   "id": "102abaca",
   "metadata": {
    "scrolled": false
   },
   "outputs": [
    {
     "data": {
      "text/html": [
       "<div>\n",
       "<style scoped>\n",
       "    .dataframe tbody tr th:only-of-type {\n",
       "        vertical-align: middle;\n",
       "    }\n",
       "\n",
       "    .dataframe tbody tr th {\n",
       "        vertical-align: top;\n",
       "    }\n",
       "\n",
       "    .dataframe thead th {\n",
       "        text-align: right;\n",
       "    }\n",
       "</style>\n",
       "<table border=\"1\" class=\"dataframe\">\n",
       "  <thead>\n",
       "    <tr style=\"text-align: right;\">\n",
       "      <th></th>\n",
       "      <th>STATE</th>\n",
       "      <th>state</th>\n",
       "      <th>year</th>\n",
       "      <th>wbgt_28_diff</th>\n",
       "    </tr>\n",
       "  </thead>\n",
       "  <tbody>\n",
       "    <tr>\n",
       "      <th>0</th>\n",
       "      <td>AL</td>\n",
       "      <td>1</td>\n",
       "      <td>1982</td>\n",
       "      <td>1.1</td>\n",
       "    </tr>\n",
       "    <tr>\n",
       "      <th>1</th>\n",
       "      <td>AL</td>\n",
       "      <td>1</td>\n",
       "      <td>1983</td>\n",
       "      <td>2.0</td>\n",
       "    </tr>\n",
       "    <tr>\n",
       "      <th>2</th>\n",
       "      <td>AL</td>\n",
       "      <td>1</td>\n",
       "      <td>1984</td>\n",
       "      <td>1.8</td>\n",
       "    </tr>\n",
       "    <tr>\n",
       "      <th>3</th>\n",
       "      <td>AL</td>\n",
       "      <td>1</td>\n",
       "      <td>1985</td>\n",
       "      <td>2.1</td>\n",
       "    </tr>\n",
       "    <tr>\n",
       "      <th>4</th>\n",
       "      <td>AL</td>\n",
       "      <td>1</td>\n",
       "      <td>1986</td>\n",
       "      <td>2.2</td>\n",
       "    </tr>\n",
       "  </tbody>\n",
       "</table>\n",
       "</div>"
      ],
      "text/plain": [
       "  STATE  state  year  wbgt_28_diff\n",
       "0    AL      1  1982           1.1\n",
       "1    AL      1  1983           2.0\n",
       "2    AL      1  1984           1.8\n",
       "3    AL      1  1985           2.1\n",
       "4    AL      1  1986           2.2"
      ]
     },
     "execution_count": 38,
     "metadata": {},
     "output_type": "execute_result"
    }
   ],
   "source": [
    "# Check out data for figure 1\n",
    "fn = os.path.join('../../../figures/wbgtmax/Figure_2a.csv')\n",
    "fig2 = pd.read_csv(fn)\n",
    "fig2.head()"
   ]
  },
  {
   "cell_type": "markdown",
   "id": "eb10e81c",
   "metadata": {},
   "source": [
    "### USA"
   ]
  },
  {
   "cell_type": "code",
   "execution_count": 24,
   "id": "103a591f",
   "metadata": {},
   "outputs": [],
   "source": [
    "metric = 'wbgt_28'\n",
    "geo = 'USA'"
   ]
  },
  {
   "cell_type": "code",
   "execution_count": 26,
   "id": "722ddf02",
   "metadata": {
    "scrolled": true
   },
   "outputs": [
    {
     "name": "stdout",
     "output_type": "stream",
     "text": [
      "Avg. dif 1981 - 2020 USA: 5.45\n"
     ]
    }
   ],
   "source": [
    "avg = fig2[fig2['STATE'] == geo][metric+'_diff'].mean()\n",
    "print('Avg. dif 1981 - 2020 USA:', round(avg, 2))"
   ]
  },
  {
   "cell_type": "code",
   "execution_count": 28,
   "id": "cc99f913",
   "metadata": {},
   "outputs": [
    {
     "name": "stdout",
     "output_type": "stream",
     "text": [
      "std. dif 1981 - 2020 USA: 1.28\n"
     ]
    }
   ],
   "source": [
    "std = fig2[fig2['STATE'] == geo][metric+'_diff'].std()\n",
    "print('std. dif 1981 - 2020 USA:', round(std,2))"
   ]
  },
  {
   "cell_type": "code",
   "execution_count": 29,
   "id": "a57eb297",
   "metadata": {},
   "outputs": [
    {
     "name": "stdout",
     "output_type": "stream",
     "text": [
      "coef of var. 1981 - 2020 USA: 0.2\n"
     ]
    }
   ],
   "source": [
    "cv = std / avg\n",
    "print('coef of var. 1981 - 2020 USA:', round(cv,1))"
   ]
  },
  {
   "cell_type": "code",
   "execution_count": 30,
   "id": "7dc51124",
   "metadata": {},
   "outputs": [
    {
     "ename": "KeyError",
     "evalue": "\"['wbgt_28_state'] not in index\"",
     "output_type": "error",
     "traceback": [
      "\u001b[0;31m---------------------------------------------------------------------------\u001b[0m",
      "\u001b[0;31mKeyError\u001b[0m                                  Traceback (most recent call last)",
      "Cell \u001b[0;32mIn[30], line 1\u001b[0m\n\u001b[0;32m----> 1\u001b[0m \u001b[43mfig2\u001b[49m\u001b[43m[\u001b[49m\u001b[43mfig2\u001b[49m\u001b[43m[\u001b[49m\u001b[38;5;124;43m'\u001b[39;49m\u001b[38;5;124;43mSTATE\u001b[39;49m\u001b[38;5;124;43m'\u001b[39;49m\u001b[43m]\u001b[49m\u001b[43m \u001b[49m\u001b[38;5;241;43m==\u001b[39;49m\u001b[43m \u001b[49m\u001b[43mgeo\u001b[49m\u001b[43m]\u001b[49m\u001b[38;5;241;43m.\u001b[39;49m\u001b[43msort_values\u001b[49m\u001b[43m(\u001b[49m\u001b[38;5;124;43m'\u001b[39;49m\u001b[38;5;124;43mwbgt_28_diff\u001b[39;49m\u001b[38;5;124;43m'\u001b[39;49m\u001b[43m,\u001b[49m\u001b[43m \u001b[49m\u001b[43mascending\u001b[49m\u001b[38;5;241;43m=\u001b[39;49m\u001b[38;5;28;43;01mFalse\u001b[39;49;00m\u001b[43m)\u001b[49m\u001b[43m[\u001b[49m\u001b[43m[\u001b[49m\u001b[38;5;124;43m'\u001b[39;49m\u001b[38;5;124;43myear\u001b[39;49m\u001b[38;5;124;43m'\u001b[39;49m\u001b[43m,\u001b[49m\u001b[43m \u001b[49m\u001b[38;5;124;43m'\u001b[39;49m\u001b[38;5;124;43mwbgt_28_state\u001b[39;49m\u001b[38;5;124;43m'\u001b[39;49m\u001b[43m,\u001b[49m\u001b[43m \u001b[49m\u001b[43mmetric\u001b[49m\u001b[38;5;241;43m+\u001b[39;49m\u001b[38;5;124;43m'\u001b[39;49m\u001b[38;5;124;43m_diff\u001b[39;49m\u001b[38;5;124;43m'\u001b[39;49m\u001b[43m]\u001b[49m\u001b[43m]\u001b[49m\u001b[38;5;241m.\u001b[39mhead(\u001b[38;5;241m5\u001b[39m)\n",
      "File \u001b[0;32m~/miniconda3/envs/geo10/lib/python3.10/site-packages/pandas/core/frame.py:3813\u001b[0m, in \u001b[0;36mDataFrame.__getitem__\u001b[0;34m(self, key)\u001b[0m\n\u001b[1;32m   3811\u001b[0m     \u001b[38;5;28;01mif\u001b[39;00m is_iterator(key):\n\u001b[1;32m   3812\u001b[0m         key \u001b[38;5;241m=\u001b[39m \u001b[38;5;28mlist\u001b[39m(key)\n\u001b[0;32m-> 3813\u001b[0m     indexer \u001b[38;5;241m=\u001b[39m \u001b[38;5;28;43mself\u001b[39;49m\u001b[38;5;241;43m.\u001b[39;49m\u001b[43mcolumns\u001b[49m\u001b[38;5;241;43m.\u001b[39;49m\u001b[43m_get_indexer_strict\u001b[49m\u001b[43m(\u001b[49m\u001b[43mkey\u001b[49m\u001b[43m,\u001b[49m\u001b[43m \u001b[49m\u001b[38;5;124;43m\"\u001b[39;49m\u001b[38;5;124;43mcolumns\u001b[39;49m\u001b[38;5;124;43m\"\u001b[39;49m\u001b[43m)\u001b[49m[\u001b[38;5;241m1\u001b[39m]\n\u001b[1;32m   3815\u001b[0m \u001b[38;5;66;03m# take() does not accept boolean indexers\u001b[39;00m\n\u001b[1;32m   3816\u001b[0m \u001b[38;5;28;01mif\u001b[39;00m \u001b[38;5;28mgetattr\u001b[39m(indexer, \u001b[38;5;124m\"\u001b[39m\u001b[38;5;124mdtype\u001b[39m\u001b[38;5;124m\"\u001b[39m, \u001b[38;5;28;01mNone\u001b[39;00m) \u001b[38;5;241m==\u001b[39m \u001b[38;5;28mbool\u001b[39m:\n",
      "File \u001b[0;32m~/miniconda3/envs/geo10/lib/python3.10/site-packages/pandas/core/indexes/base.py:6070\u001b[0m, in \u001b[0;36mIndex._get_indexer_strict\u001b[0;34m(self, key, axis_name)\u001b[0m\n\u001b[1;32m   6067\u001b[0m \u001b[38;5;28;01melse\u001b[39;00m:\n\u001b[1;32m   6068\u001b[0m     keyarr, indexer, new_indexer \u001b[38;5;241m=\u001b[39m \u001b[38;5;28mself\u001b[39m\u001b[38;5;241m.\u001b[39m_reindex_non_unique(keyarr)\n\u001b[0;32m-> 6070\u001b[0m \u001b[38;5;28;43mself\u001b[39;49m\u001b[38;5;241;43m.\u001b[39;49m\u001b[43m_raise_if_missing\u001b[49m\u001b[43m(\u001b[49m\u001b[43mkeyarr\u001b[49m\u001b[43m,\u001b[49m\u001b[43m \u001b[49m\u001b[43mindexer\u001b[49m\u001b[43m,\u001b[49m\u001b[43m \u001b[49m\u001b[43maxis_name\u001b[49m\u001b[43m)\u001b[49m\n\u001b[1;32m   6072\u001b[0m keyarr \u001b[38;5;241m=\u001b[39m \u001b[38;5;28mself\u001b[39m\u001b[38;5;241m.\u001b[39mtake(indexer)\n\u001b[1;32m   6073\u001b[0m \u001b[38;5;28;01mif\u001b[39;00m \u001b[38;5;28misinstance\u001b[39m(key, Index):\n\u001b[1;32m   6074\u001b[0m     \u001b[38;5;66;03m# GH 42790 - Preserve name from an Index\u001b[39;00m\n",
      "File \u001b[0;32m~/miniconda3/envs/geo10/lib/python3.10/site-packages/pandas/core/indexes/base.py:6133\u001b[0m, in \u001b[0;36mIndex._raise_if_missing\u001b[0;34m(self, key, indexer, axis_name)\u001b[0m\n\u001b[1;32m   6130\u001b[0m     \u001b[38;5;28;01mraise\u001b[39;00m \u001b[38;5;167;01mKeyError\u001b[39;00m(\u001b[38;5;124mf\u001b[39m\u001b[38;5;124m\"\u001b[39m\u001b[38;5;124mNone of [\u001b[39m\u001b[38;5;132;01m{\u001b[39;00mkey\u001b[38;5;132;01m}\u001b[39;00m\u001b[38;5;124m] are in the [\u001b[39m\u001b[38;5;132;01m{\u001b[39;00maxis_name\u001b[38;5;132;01m}\u001b[39;00m\u001b[38;5;124m]\u001b[39m\u001b[38;5;124m\"\u001b[39m)\n\u001b[1;32m   6132\u001b[0m not_found \u001b[38;5;241m=\u001b[39m \u001b[38;5;28mlist\u001b[39m(ensure_index(key)[missing_mask\u001b[38;5;241m.\u001b[39mnonzero()[\u001b[38;5;241m0\u001b[39m]]\u001b[38;5;241m.\u001b[39munique())\n\u001b[0;32m-> 6133\u001b[0m \u001b[38;5;28;01mraise\u001b[39;00m \u001b[38;5;167;01mKeyError\u001b[39;00m(\u001b[38;5;124mf\u001b[39m\u001b[38;5;124m\"\u001b[39m\u001b[38;5;132;01m{\u001b[39;00mnot_found\u001b[38;5;132;01m}\u001b[39;00m\u001b[38;5;124m not in index\u001b[39m\u001b[38;5;124m\"\u001b[39m)\n",
      "\u001b[0;31mKeyError\u001b[0m: \"['wbgt_28_state'] not in index\""
     ]
    }
   ],
   "source": [
    "fig2[fig2['STATE'] == geo].sort_values('wbgt_28_diff', ascending=False)[['year', 'wbgt_28_state', metric+'_diff']].head(5)"
   ]
  },
  {
   "cell_type": "markdown",
   "id": "655180da",
   "metadata": {},
   "source": [
    "### State Level"
   ]
  },
  {
   "cell_type": "code",
   "execution_count": 31,
   "id": "273fab4e",
   "metadata": {},
   "outputs": [],
   "source": [
    "fig2.sort_values('wbgt_28_diff', ascending=False)[['STATE','year', metric+'_diff']].head(50);"
   ]
  },
  {
   "cell_type": "code",
   "execution_count": 32,
   "id": "00dc1986",
   "metadata": {},
   "outputs": [
    {
     "data": {
      "text/plain": [
       "STATE\n",
       "AZ     13.105128\n",
       "CA      7.838462\n",
       "NV      7.748718\n",
       "GA      7.607692\n",
       "USA     5.453846\n",
       "AL      3.264103\n",
       "IL      3.192308\n",
       "AR      3.156410\n",
       "NE      2.635897\n",
       "NC      2.610256\n",
       "Name: wbgt_28_diff, dtype: float64"
      ]
     },
     "execution_count": 32,
     "metadata": {},
     "output_type": "execute_result"
    }
   ],
   "source": [
    "fig2.groupby('STATE')['wbgt_28_diff'].mean().sort_values(ascending=False).head(10)"
   ]
  },
  {
   "cell_type": "code",
   "execution_count": 33,
   "id": "c1d4c40e",
   "metadata": {
    "scrolled": true
   },
   "outputs": [],
   "source": [
    "geo = 'AZ'"
   ]
  },
  {
   "cell_type": "code",
   "execution_count": 34,
   "id": "343a26b8",
   "metadata": {
    "scrolled": false
   },
   "outputs": [
    {
     "ename": "KeyError",
     "evalue": "'wbgt_28_state'",
     "output_type": "error",
     "traceback": [
      "\u001b[0;31m---------------------------------------------------------------------------\u001b[0m",
      "\u001b[0;31mKeyError\u001b[0m                                  Traceback (most recent call last)",
      "File \u001b[0;32m~/miniconda3/envs/geo10/lib/python3.10/site-packages/pandas/core/indexes/base.py:3802\u001b[0m, in \u001b[0;36mIndex.get_loc\u001b[0;34m(self, key, method, tolerance)\u001b[0m\n\u001b[1;32m   3801\u001b[0m \u001b[38;5;28;01mtry\u001b[39;00m:\n\u001b[0;32m-> 3802\u001b[0m     \u001b[38;5;28;01mreturn\u001b[39;00m \u001b[38;5;28;43mself\u001b[39;49m\u001b[38;5;241;43m.\u001b[39;49m\u001b[43m_engine\u001b[49m\u001b[38;5;241;43m.\u001b[39;49m\u001b[43mget_loc\u001b[49m\u001b[43m(\u001b[49m\u001b[43mcasted_key\u001b[49m\u001b[43m)\u001b[49m\n\u001b[1;32m   3803\u001b[0m \u001b[38;5;28;01mexcept\u001b[39;00m \u001b[38;5;167;01mKeyError\u001b[39;00m \u001b[38;5;28;01mas\u001b[39;00m err:\n",
      "File \u001b[0;32m~/miniconda3/envs/geo10/lib/python3.10/site-packages/pandas/_libs/index.pyx:138\u001b[0m, in \u001b[0;36mpandas._libs.index.IndexEngine.get_loc\u001b[0;34m()\u001b[0m\n",
      "File \u001b[0;32m~/miniconda3/envs/geo10/lib/python3.10/site-packages/pandas/_libs/index.pyx:165\u001b[0m, in \u001b[0;36mpandas._libs.index.IndexEngine.get_loc\u001b[0;34m()\u001b[0m\n",
      "File \u001b[0;32mpandas/_libs/hashtable_class_helper.pxi:5745\u001b[0m, in \u001b[0;36mpandas._libs.hashtable.PyObjectHashTable.get_item\u001b[0;34m()\u001b[0m\n",
      "File \u001b[0;32mpandas/_libs/hashtable_class_helper.pxi:5753\u001b[0m, in \u001b[0;36mpandas._libs.hashtable.PyObjectHashTable.get_item\u001b[0;34m()\u001b[0m\n",
      "\u001b[0;31mKeyError\u001b[0m: 'wbgt_28_state'",
      "\nThe above exception was the direct cause of the following exception:\n",
      "\u001b[0;31mKeyError\u001b[0m                                  Traceback (most recent call last)",
      "Cell \u001b[0;32mIn[34], line 1\u001b[0m\n\u001b[0;32m----> 1\u001b[0m \u001b[43mfig2\u001b[49m\u001b[43m[\u001b[49m\u001b[43mfig2\u001b[49m\u001b[43m[\u001b[49m\u001b[38;5;124;43m'\u001b[39;49m\u001b[38;5;124;43mSTATE\u001b[39;49m\u001b[38;5;124;43m'\u001b[39;49m\u001b[43m]\u001b[49m\u001b[43m \u001b[49m\u001b[38;5;241;43m==\u001b[39;49m\u001b[43m \u001b[49m\u001b[43mgeo\u001b[49m\u001b[43m]\u001b[49m\u001b[43m[\u001b[49m\u001b[38;5;124;43m'\u001b[39;49m\u001b[38;5;124;43mwbgt_28_state\u001b[39;49m\u001b[38;5;124;43m'\u001b[39;49m\u001b[43m]\u001b[49m\u001b[38;5;241m.\u001b[39mmean()\n",
      "File \u001b[0;32m~/miniconda3/envs/geo10/lib/python3.10/site-packages/pandas/core/frame.py:3807\u001b[0m, in \u001b[0;36mDataFrame.__getitem__\u001b[0;34m(self, key)\u001b[0m\n\u001b[1;32m   3805\u001b[0m \u001b[38;5;28;01mif\u001b[39;00m \u001b[38;5;28mself\u001b[39m\u001b[38;5;241m.\u001b[39mcolumns\u001b[38;5;241m.\u001b[39mnlevels \u001b[38;5;241m>\u001b[39m \u001b[38;5;241m1\u001b[39m:\n\u001b[1;32m   3806\u001b[0m     \u001b[38;5;28;01mreturn\u001b[39;00m \u001b[38;5;28mself\u001b[39m\u001b[38;5;241m.\u001b[39m_getitem_multilevel(key)\n\u001b[0;32m-> 3807\u001b[0m indexer \u001b[38;5;241m=\u001b[39m \u001b[38;5;28;43mself\u001b[39;49m\u001b[38;5;241;43m.\u001b[39;49m\u001b[43mcolumns\u001b[49m\u001b[38;5;241;43m.\u001b[39;49m\u001b[43mget_loc\u001b[49m\u001b[43m(\u001b[49m\u001b[43mkey\u001b[49m\u001b[43m)\u001b[49m\n\u001b[1;32m   3808\u001b[0m \u001b[38;5;28;01mif\u001b[39;00m is_integer(indexer):\n\u001b[1;32m   3809\u001b[0m     indexer \u001b[38;5;241m=\u001b[39m [indexer]\n",
      "File \u001b[0;32m~/miniconda3/envs/geo10/lib/python3.10/site-packages/pandas/core/indexes/base.py:3804\u001b[0m, in \u001b[0;36mIndex.get_loc\u001b[0;34m(self, key, method, tolerance)\u001b[0m\n\u001b[1;32m   3802\u001b[0m     \u001b[38;5;28;01mreturn\u001b[39;00m \u001b[38;5;28mself\u001b[39m\u001b[38;5;241m.\u001b[39m_engine\u001b[38;5;241m.\u001b[39mget_loc(casted_key)\n\u001b[1;32m   3803\u001b[0m \u001b[38;5;28;01mexcept\u001b[39;00m \u001b[38;5;167;01mKeyError\u001b[39;00m \u001b[38;5;28;01mas\u001b[39;00m err:\n\u001b[0;32m-> 3804\u001b[0m     \u001b[38;5;28;01mraise\u001b[39;00m \u001b[38;5;167;01mKeyError\u001b[39;00m(key) \u001b[38;5;28;01mfrom\u001b[39;00m \u001b[38;5;21;01merr\u001b[39;00m\n\u001b[1;32m   3805\u001b[0m \u001b[38;5;28;01mexcept\u001b[39;00m \u001b[38;5;167;01mTypeError\u001b[39;00m:\n\u001b[1;32m   3806\u001b[0m     \u001b[38;5;66;03m# If we have a listlike key, _check_indexing_error will raise\u001b[39;00m\n\u001b[1;32m   3807\u001b[0m     \u001b[38;5;66;03m#  InvalidIndexError. Otherwise we fall through and re-raise\u001b[39;00m\n\u001b[1;32m   3808\u001b[0m     \u001b[38;5;66;03m#  the TypeError.\u001b[39;00m\n\u001b[1;32m   3809\u001b[0m     \u001b[38;5;28mself\u001b[39m\u001b[38;5;241m.\u001b[39m_check_indexing_error(key)\n",
      "\u001b[0;31mKeyError\u001b[0m: 'wbgt_28_state'"
     ]
    }
   ],
   "source": [
    "fig2[fig2['STATE'] == geo]['wbgt_28_state'].mean()"
   ]
  },
  {
   "cell_type": "code",
   "execution_count": null,
   "id": "78594008",
   "metadata": {},
   "outputs": [],
   "source": [
    "fig2[fig2['STATE'] == geo]['wbgt_28_prison'].mean()"
   ]
  },
  {
   "cell_type": "code",
   "execution_count": null,
   "id": "b847f43b",
   "metadata": {},
   "outputs": [],
   "source": [
    "# dif on avg az\n",
    "top = \n",
    "bottom =\n"
   ]
  },
  {
   "cell_type": "code",
   "execution_count": null,
   "id": "0a524816",
   "metadata": {},
   "outputs": [],
   "source": [
    "# GA Prison\n",
    "geo = 'AZ'\n",
    "years = list(range(1981, 2019 + 1, 1))\n",
    "prison = fig2[fig2['STATE'] == geo][metric+'_prison']\n",
    "data = pd.DataFrame({'x': years, 'y': prison})\n",
    "plt.bar(data['x'], data['y'])\n",
    "plt.ylim(0,100)\n",
    "print(scipy.stats.linregress(data['x'], data['y']))\n",
    "\n",
    "# GA Average\n",
    "geo = 'GA'\n",
    "years = list(range(1981, 2019 + 1, 1))\n",
    "prison = fig2[fig2['STATE'] == geo][metric+'_state']\n",
    "data = pd.DataFrame({'x': years, 'y': prison})\n",
    "plt.bar(data['x'], data['y'])\n",
    "plt.ylim(0,100)\n",
    "print(scipy.stats.linregress(data['x'], data['y']))\n",
    "\n",
    "# prison = fig2[fig2['STATE'] == geo][metric+'_state']\n",
    "# plt.bar(years, prison)\n",
    "\n",
    "# plt.ylim(0, 70)\n",
    "plt.xlabel('Year')\n",
    "plt.ylabel('Days WBGTmax > 28°C')\n",
    "plt.legend(labels = ['GA Incarcerated', 'GA Non-incarcerated'])"
   ]
  },
  {
   "cell_type": "markdown",
   "id": "49200ff0",
   "metadata": {},
   "source": [
    "# Old code"
   ]
  },
  {
   "cell_type": "code",
   "execution_count": null,
   "id": "e4ec3f18",
   "metadata": {},
   "outputs": [],
   "source": [
    "for geo in np.unique(fig2['STATE']):\n",
    "    print(geo, len(fig2[fig2['STATE'] == geo]))"
   ]
  },
  {
   "cell_type": "code",
   "execution_count": null,
   "id": "b82ab44c",
   "metadata": {},
   "outputs": [],
   "source": [
    "geo = 'AL'\n",
    "years = list(range(1981, 2019 + 1, 1))\n",
    "prison = fig2[fig2['STATE'] == geo][metric+'_prison']\n",
    "data = pd.DataFrame({'x': years, 'y': prison})\n",
    "\n",
    "sns.regplot(data, x = 'x', y = 'y', fit_reg = True)\n",
    "plt.ylim(0,100)\n",
    "print(scipy.stats.linregress(data['x'], data['y']))\n",
    "c\n",
    "# prison = fig2[fig2['STATE'] == geo][metric+'_state']\n",
    "# plt.bar(years, prison)\n",
    "\n",
    "# plt.ylim(0, 70)"
   ]
  }
 ],
 "metadata": {
  "kernelspec": {
   "display_name": "Python 3 (ipykernel)",
   "language": "python",
   "name": "python3"
  },
  "language_info": {
   "codemirror_mode": {
    "name": "ipython",
    "version": 3
   },
   "file_extension": ".py",
   "mimetype": "text/x-python",
   "name": "python",
   "nbconvert_exporter": "python",
   "pygments_lexer": "ipython3",
   "version": "3.10.9"
  }
 },
 "nbformat": 4,
 "nbformat_minor": 5
}
